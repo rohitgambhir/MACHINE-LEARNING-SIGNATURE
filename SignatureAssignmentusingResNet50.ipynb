{
  "nbformat": 4,
  "nbformat_minor": 0,
  "metadata": {
    "colab": {
      "name": "SignatureAssignmentusingResNet50.ipynb",
      "provenance": [],
      "mount_file_id": "1DhVdZpJhksafkQINe9TsHqtetFf3pJ_D",
      "authorship_tag": "ABX9TyOWlyMLRUki9aGADwif04Ln",
      "include_colab_link": true
    },
    "kernelspec": {
      "name": "python3",
      "display_name": "Python 3"
    },
    "language_info": {
      "name": "python"
    },
    "accelerator": "GPU"
  },
  "cells": [
    {
      "cell_type": "markdown",
      "metadata": {
        "id": "view-in-github",
        "colab_type": "text"
      },
      "source": [
        "<a href=\"https://colab.research.google.com/github/rohitgambhir/MACHINE-LEARNING-SIGNATURE/blob/main/SignatureAssignmentusingResNet50.ipynb\" target=\"_parent\"><img src=\"https://colab.research.google.com/assets/colab-badge.svg\" alt=\"Open In Colab\"/></a>"
      ]
    },
    {
      "cell_type": "code",
      "metadata": {
        "id": "B72r8kWf4qHC",
        "colab": {
          "base_uri": "https://localhost:8080/"
        },
        "outputId": "979ff55d-8119-4a48-b06a-a5ff0b1f94c2"
      },
      "source": [
        "from google.colab import drive\n",
        "drive.mount('/content/drive/')\n",
        "\n",
        "\n",
        "\n",
        "\n",
        "\n",
        "\n",
        "\n",
        "\n",
        "\n",
        "import os\n",
        "import numpy as np\n",
        "import matplotlib.pyplot as plt\n",
        "import matplotlib.mlab as mlab\n",
        "import cv2\n",
        "import math\n",
        "\n",
        "import keras\n",
        "import keras.backend as K\n",
        "import tensorflow as tf\n",
        "from keras import applications\n",
        "from keras.models import Model\n",
        "from keras.layers import Flatten, Dense, Input,concatenate\n",
        "from keras.optimizers import Adam\n",
        "from keras.models import load_model, model_from_json\n",
        "import random"
      ],
      "execution_count": 2,
      "outputs": [
        {
          "output_type": "stream",
          "text": [
            "Drive already mounted at /content/drive/; to attempt to forcibly remount, call drive.mount(\"/content/drive/\", force_remount=True).\n"
          ],
          "name": "stdout"
        }
      ]
    },
    {
      "cell_type": "code",
      "metadata": {
        "id": "FzjiMG104zrd"
      },
      "source": [
        "import os\n",
        "import numpy as np\n",
        "import matplotlib.pyplot as plt\n",
        "import matplotlib.mlab as mlab\n",
        "import cv2\n",
        "import math\n",
        "from tensorflow import keras\n",
        "import keras\n",
        "import keras.backend as K\n",
        "import tensorflow as tf\n",
        "from keras import applications\n",
        "from keras.models import Model\n",
        "from keras.layers import Flatten, Dense, Input,concatenate\n",
        "from keras.optimizers import Adam\n",
        "from keras.models import load_model, model_from_json\n",
        "import random\n",
        "gen=\"/content/drive/MyDrive/input/handwritten signatures/sample_Signature/sample_Signature/genuine\"\n",
        "forg=\"/content/drive/MyDrive/input/handwritten signatures/sample_Signature/sample_Signature/forged\"\n",
        "\n",
        "gentr=\"/content/drive/MyDrive/input/sigcomp 2009 train/Sigcomp 2009 train/genuine\"\n",
        "forgtr=\"/content/drive/MyDrive/input/sigcomp 2009 train/Sigcomp 2009 train/forgeries\"\n",
        "\n",
        "gent=\"/content/drive/MyDrive/input/Sigcomp 2009/sigcomp 2009/genuines\"\n",
        "forgt=\"/content/drive/MyDrive/input/Sigcomp 2009/sigcomp 2009/forgeries\""
      ],
      "execution_count": 3,
      "outputs": []
    },
    {
      "cell_type": "code",
      "metadata": {
        "id": "6dgdS5i95Igm"
      },
      "source": [
        "img_width, img_height, channels = 224, 224, 3\n",
        "\n",
        "dim = (img_width, img_height)\n",
        "\n",
        "def to_rgb(img):\n",
        "    img = cv2.resize(img, dim, interpolation = cv2.INTER_AREA) \n",
        "    img_rgb = np.asarray(np.dstack((img, img, img)), dtype=np.uint8)\n",
        "    return img_rgb\n",
        "\n",
        "def returnimages(path,img):\n",
        "    image=cv2.imread(path+\"/\"+ img)                  #bringing the image\n",
        "    image=cv2.resize(image, (img_width, img_height))\n",
        "    image=cv2.cvtColor(image, cv2.COLOR_BGR2GRAY)\n",
        "    image=to_rgb(image).reshape(1,img_width, img_height,3)/255.0       #resizing and normalizing    \n",
        "    return image\n",
        "\n",
        "def getfiles(num,gen,forg):\n",
        "    a=os.listdir(gen)\n",
        "    b=os.listdir(forg)\n",
        "    c=str(num)\n",
        "    c=c[2:]\n",
        "    if(len(c)==2):\n",
        "        c=c+\"0\"\n",
        "    \n",
        "    n,m=[],[]\n",
        "    for i in b:\n",
        "        if i.endswith(c+\".png\"):\n",
        "            n=n+[i]\n",
        "        elif i.endswith(c+\".PNG\"):\n",
        "            n=n+[i]\n",
        "    for i in a:\n",
        "        if i.endswith(c+\".png\"):\n",
        "            m=m+[i]\n",
        "        elif i.endswith(c+\".PNG\"):\n",
        "            m=m+[i]\n",
        "    return m.pop(),n,m\n",
        "\n",
        "def getfiles2(num):\n",
        "    a=os.listdir(gentr)\n",
        "    b=os.listdir(forgtr)\n",
        "    c=str(num)\n",
        "    c=c[2:]\n",
        "    if(len(c)==2):\n",
        "        c=c+\"0\"\n",
        "    n,m=[],[]\n",
        "    for i in b:\n",
        "        if (i.endswith(c+\"_001_6g.png\") or i.endswith(c+\"_002_6g.png\") or i.endswith(c+\"_003_6g.png\")\n",
        "            or i.endswith(c+\"_004_6g.png\") or i.endswith(c+\"_005_6g.png\")):\n",
        "            n=n+[i]\n",
        "        elif (i.endswith(c+\"_001_6g.PNG\") or i.endswith(c+\"_002_6g.PNG\") or i.endswith(c+\"_003_6g.PNG\")\n",
        "              or i.endswith(c+\"_004_6g.PNG\") or i.endswith(c+\"_005_6g.PNG\")):\n",
        "            n=n+[i]\n",
        "    for i in a:\n",
        "        if (i.endswith(c+\"_001_6g.png\") or i.endswith(c+\"_002_6g.png\") or i.endswith(c+\"_003_6g.png\")\n",
        "            or i.endswith(c+\"_004_6g.png\") or i.endswith(c+\"_005_6g.png\")):\n",
        "            m=m+[i]\n",
        "        elif (i.endswith(c+\"_001_6g.PNG\") or i.endswith(c+\"_002_6g.PNG\") or i.endswith(c+\"_003_6g.PNG\")\n",
        "              or i.endswith(c+\"_004_6g.PNG\") or i.endswith(c+\"_005_6g.PNG\")):\n",
        "            m=m+[i]\n",
        "    return m.pop(),n,m\n"
      ],
      "execution_count": 4,
      "outputs": []
    },
    {
      "cell_type": "code",
      "metadata": {
        "id": "xA6OHVXTDHwf"
      },
      "source": [
        ""
      ],
      "execution_count": null,
      "outputs": []
    },
    {
      "cell_type": "code",
      "metadata": {
        "id": "hk14LRPj5blJ"
      },
      "source": [
        "def triplet_loss(y_true, y_pred):\n",
        "    alpha = 0.5\n",
        "    anchor, positive, negative =y_pred[0,0:512], y_pred[0,512:1024], y_pred[0,1024:1536]\n",
        "    \n",
        "    positive_distance = K.mean(K.square(anchor - positive),axis=-1)\n",
        "    negative_distance = K.mean(K.square(anchor - negative),axis=-1)\n",
        "    return K.mean(K.maximum(0.0, positive_distance - negative_distance + alpha))\n",
        "\n"
      ],
      "execution_count": 5,
      "outputs": []
    },
    {
      "cell_type": "code",
      "metadata": {
        "id": "SBxa2Ko25tYE",
        "colab": {
          "base_uri": "https://localhost:8080/"
        },
        "outputId": "37b73daf-f71f-4467-fa36-c6ba467cde5f"
      },
      "source": [
        "\n",
        "model = keras.applications.ResNet50(weights='imagenet', include_top=False, pooling='max')\n",
        "for layer in model.layers[:15]:\n",
        "    layer.trainable = False\n",
        "\n",
        "anchor_in = Input(shape=(img_width, img_height, channels))\n",
        "pos_in = Input(shape=(img_width, img_height, channels))\n",
        "neg_in = Input(shape=(img_width, img_height, channels))\n",
        "\n",
        "anchor_out = model(anchor_in)\n",
        "pos_out = model(pos_in)\n",
        "neg_out = model(neg_in)\n",
        "merged_vector = concatenate([anchor_out, pos_out, neg_out],axis=1)\n",
        "\n",
        "model = Model(inputs=[anchor_in, pos_in, neg_in], outputs=merged_vector)"
      ],
      "execution_count": 6,
      "outputs": [
        {
          "output_type": "stream",
          "text": [
            "Downloading data from https://storage.googleapis.com/tensorflow/keras-applications/resnet/resnet50_weights_tf_dim_ordering_tf_kernels_notop.h5\n",
            "94773248/94765736 [==============================] - 1s 0us/step\n"
          ],
          "name": "stdout"
        }
      ]
    },
    {
      "cell_type": "code",
      "metadata": {
        "id": "53W9q9oroveI"
      },
      "source": [
        "model.compile(optimizer=Adam(lr=0.000005),loss=triplet_loss)"
      ],
      "execution_count": 7,
      "outputs": []
    },
    {
      "cell_type": "code",
      "metadata": {
        "id": "tPyrXYRpo1i5"
      },
      "source": [
        "def generator():\n",
        "    for i in range(1,31):\n",
        "        if(i<10):\n",
        "            anc,neg,pos=getfiles(float(\"0.00\"+str(i)),gen,forg)\n",
        "        else:\n",
        "            anc,neg,pos=getfiles(float(\"0.0\"+str(i)),gen,forg)\n",
        "        for i in range(len(neg)):\n",
        "            for j in range(len(pos)):\n",
        "                anchor=returnimages(gen,anc)\n",
        "                positive=returnimages(gen,pos[j])\n",
        "                negative=returnimages(forg,neg[i])\n",
        "               # yield ([anc,pos[j],neg[i]],[0])\n",
        "                yield ([anchor,positive,negative],np.asarray([0]))"
      ],
      "execution_count": 8,
      "outputs": []
    },
    {
      "cell_type": "code",
      "metadata": {
        "id": "iFqqgZ9Wo4at",
        "colab": {
          "base_uri": "https://localhost:8080/"
        },
        "outputId": "c81af479-8898-41ae-b519-e40d7346ef57"
      },
      "source": [
        "for x in range(2):\n",
        "    model.fit_generator(generator() , steps_per_epoch=200,epochs=3)"
      ],
      "execution_count": 9,
      "outputs": [
        {
          "output_type": "stream",
          "text": [
            "/usr/local/lib/python3.7/dist-packages/tensorflow/python/keras/engine/training.py:1844: UserWarning: `Model.fit_generator` is deprecated and will be removed in a future version. Please use `Model.fit`, which supports generators.\n",
            "  warnings.warn('`Model.fit_generator` is deprecated and '\n"
          ],
          "name": "stderr"
        },
        {
          "output_type": "stream",
          "text": [
            "Epoch 1/3\n",
            "200/200 [==============================] - 91s 244ms/step - loss: 0.0642\n",
            "Epoch 2/3\n",
            "200/200 [==============================] - 48s 235ms/step - loss: 0.0530\n",
            "Epoch 3/3\n",
            "200/200 [==============================] - 68s 334ms/step - loss: 0.0116\n",
            "Epoch 1/3\n",
            "200/200 [==============================] - 19s 95ms/step - loss: 0.0000e+00\n",
            "Epoch 2/3\n",
            "200/200 [==============================] - 19s 94ms/step - loss: 0.0000e+00\n",
            "Epoch 3/3\n",
            "200/200 [==============================] - 30s 152ms/step - loss: 0.0000e+00\n"
          ],
          "name": "stdout"
        }
      ]
    },
    {
      "cell_type": "code",
      "metadata": {
        "id": "TOJHAlVi_3s_"
      },
      "source": [
        "model.compile(optimizer=Adam(lr=0.000002),loss=triplet_loss)"
      ],
      "execution_count": 10,
      "outputs": []
    },
    {
      "cell_type": "code",
      "metadata": {
        "id": "q2nQ99h3AW_A"
      },
      "source": [
        "def generator2():\n",
        "    x=[\"0.001\",\"0.004\", \"0.005\", \"0.006\", \"0.007\",\n",
        "       \"0.008\", \"0.009\", \"0.010\", \"0.011\", \"0.001\", \"0.010\"]\n",
        "  #  x=[\"0.001\", \"0.004\", \"0.006\", \"0.010\"]\n",
        "\n",
        "    for k in x:\n",
        "        anc,neg,pos=getfiles2(k)\n",
        "        frac=0.95    \n",
        "        inds = set(random.sample(list(range(len(neg))), int(frac*len(neg))))\n",
        "        neg = [n for i,n in enumerate(neg) if i not in inds]\n",
        "    \n",
        "        for i in range(len(neg)):\n",
        "            for j in range(len(pos)):\n",
        "                anchor=returnimages(gentr,anc)\n",
        "                positive=returnimages(gentr,pos[j])\n",
        "                negative=returnimages(forgtr,neg[i])\n",
        "               # yield ([anc,pos[j],neg[i]])\n",
        "                yield ([anchor,positive,negative],np.asarray([0]))"
      ],
      "execution_count": 12,
      "outputs": []
    },
    {
      "cell_type": "code",
      "metadata": {
        "colab": {
          "base_uri": "https://localhost:8080/"
        },
        "id": "pDB5jgdLAkE9",
        "outputId": "b24905b2-31d4-4fc9-ba69-c2f13621ad54"
      },
      "source": [
        "for x in range(2):\n",
        "    model.fit_generator(generator2(),steps_per_epoch=32,epochs=11)"
      ],
      "execution_count": 13,
      "outputs": [
        {
          "output_type": "stream",
          "text": [
            "/usr/local/lib/python3.7/dist-packages/tensorflow/python/keras/engine/training.py:1844: UserWarning: `Model.fit_generator` is deprecated and will be removed in a future version. Please use `Model.fit`, which supports generators.\n",
            "  warnings.warn('`Model.fit_generator` is deprecated and '\n"
          ],
          "name": "stderr"
        },
        {
          "output_type": "stream",
          "text": [
            "Epoch 1/11\n",
            "32/32 [==============================] - 16s 186ms/step - loss: 0.0000e+00\n",
            "Epoch 2/11\n",
            "32/32 [==============================] - 6s 172ms/step - loss: 0.0000e+00\n",
            "Epoch 3/11\n",
            "32/32 [==============================] - 6s 174ms/step - loss: 0.0000e+00\n",
            "Epoch 4/11\n",
            "32/32 [==============================] - 6s 177ms/step - loss: 0.0000e+00\n",
            "Epoch 5/11\n",
            "32/32 [==============================] - 6s 181ms/step - loss: 0.0000e+00\n",
            "Epoch 6/11\n",
            "32/32 [==============================] - 7s 198ms/step - loss: 0.0000e+00\n",
            "Epoch 7/11\n",
            "32/32 [==============================] - 7s 181ms/step - loss: 0.0000e+00\n",
            "Epoch 8/11\n",
            "32/32 [==============================] - 7s 180ms/step - loss: 0.0000e+00\n",
            "Epoch 9/11\n",
            "32/32 [==============================] - 7s 183ms/step - loss: 0.0000e+00\n",
            "Epoch 10/11\n",
            "32/32 [==============================] - 5s 160ms/step - loss: 0.0000e+00\n",
            "Epoch 11/11\n",
            "32/32 [==============================] - 5s 156ms/step - loss: 0.0000e+00\n",
            "Epoch 1/11\n",
            "32/32 [==============================] - 4s 135ms/step - loss: 0.0000e+00\n",
            "Epoch 2/11\n",
            "32/32 [==============================] - 5s 148ms/step - loss: 0.0000e+00\n",
            "Epoch 3/11\n",
            "32/32 [==============================] - 5s 147ms/step - loss: 0.0000e+00\n",
            "Epoch 4/11\n",
            "32/32 [==============================] - 5s 160ms/step - loss: 0.0000e+00\n",
            "Epoch 5/11\n",
            "32/32 [==============================] - 5s 158ms/step - loss: 0.0000e+00\n",
            "Epoch 6/11\n",
            "32/32 [==============================] - 6s 169ms/step - loss: 0.0000e+00\n",
            "Epoch 7/11\n",
            "32/32 [==============================] - 5s 140ms/step - loss: 0.0000e+00\n",
            "Epoch 8/11\n",
            "32/32 [==============================] - 5s 146ms/step - loss: 0.0000e+00\n",
            "Epoch 9/11\n",
            "32/32 [==============================] - 5s 149ms/step - loss: 0.0000e+00\n",
            "Epoch 10/11\n",
            "32/32 [==============================] - 5s 151ms/step - loss: 0.0000e+00\n",
            "Epoch 11/11\n",
            "32/32 [==============================] - 5s 133ms/step - loss: 0.0000e+00\n"
          ],
          "name": "stdout"
        }
      ]
    },
    {
      "cell_type": "code",
      "metadata": {
        "id": "bCpsefLTBMly"
      },
      "source": [
        ""
      ],
      "execution_count": null,
      "outputs": []
    },
    {
      "cell_type": "code",
      "metadata": {
        "id": "mF161FWgBE6E",
        "colab": {
          "base_uri": "https://localhost:8080/"
        },
        "outputId": "9889cc6d-5abc-4616-9edb-99252f4aa735"
      },
      "source": [
        "tneg,tpos=0,0\n",
        "x=[0.002, 0.008, 0.016, 0.018, 0.024, 0.033, 0.035, 0.044, 0.046, 0.063,\n",
        "   0.070, 0.071, 0.077, 0.084, 0.085, 0.086, 0.089, 0.092, 0.093]\n",
        "for k in x: #the id of signatures you want to check\n",
        "    #print(\"When k is \", k)\n",
        "    anc,neg,pos=getfiles(k,gent,forgt)\n",
        "    tneg=tneg+len(neg)\n",
        "    tpos=tpos+len(pos)\n",
        "print(tneg,tpos)\n"
      ],
      "execution_count": 14,
      "outputs": [
        {
          "output_type": "stream",
          "text": [
            "624 203\n"
          ],
          "name": "stdout"
        }
      ]
    },
    {
      "cell_type": "code",
      "metadata": {
        "id": "07aO65aqBO8d"
      },
      "source": [
        "model.save_weights('/content/drive/MyDrive/input')"
      ],
      "execution_count": null,
      "outputs": []
    },
    {
      "cell_type": "code",
      "metadata": {
        "colab": {
          "base_uri": "https://localhost:8080/"
        },
        "id": "qEPEo0sjDJPr",
        "outputId": "3ca7428b-a3d6-4075-d0c7-39cfacc64662"
      },
      "source": [
        "forg_passed=0\n",
        "gen_flagged=0\n",
        "x=[0.002, 0.008, 0.016, 0.018, 0.024, 0.033, 0.035, 0.044, 0.046, 0.063,\n",
        "   0.070, 0.071, 0.077, 0.084, 0.085, 0.086, 0.089, 0.092, 0.093]\n",
        "\n",
        "for k in x: #the id of signatures you want to check\n",
        "    print(\"When k is \", k)\n",
        "    anc,neg,pos=getfiles(k,gent,forgt)\n",
        "    \n",
        "    anchor=returnimages(gent,anc)\n",
        "    for i in range(len(pos)): #pos\n",
        "        positive=returnimages(gent,pos[i])\n",
        "        x=model.predict([anchor,positive,anchor])\n",
        "        a, p, useless = x[0,0:512], x[0,512:1024], x[0,1024:1536]\n",
        "        #dist=sum(a-p)\n",
        "        dist=np.linalg.norm(a-p)\n",
        "        # print(\"positive distance is \",dist)\n",
        "        if(dist>140):\n",
        "        #  print(\"0\")\n",
        "            gen_flagged=gen_flagged+1\n",
        "            print(\"gen flagged - \",dist, \"file name is - \", pos[i])\n",
        "            \n",
        "        else:\n",
        "            gen_flagged=gen_flagged\n",
        "        #   print(\"1\")\n",
        "        \n",
        "    for j in range(len(neg)): #neg\n",
        "        negative=returnimages(forgt,neg[j])\n",
        "        x=model.predict([anchor,negative,anchor])\n",
        "        a, n, useless = x[0,0:512], x[0,512:1024], x[0,1024:1536]\n",
        "        #dist=sum(a-n)\n",
        "        dist=np.linalg.norm(a-n)\n",
        "        # print(\"negative distance is \",dist)\n",
        "        if(dist>128):\n",
        "            forg_passed=forg_passed\n",
        "          #  print(\"0\")\n",
        "        else:\n",
        "            forg_passed=forg_passed+1\n",
        "            print(\"forg passed - \",dist, \"file name is - \", neg[j])\n",
        "          #  print(\"1\")\n",
        "\n",
        "print(\"forg_passed is \",forg_passed)\n",
        "print(\"gen_flagged is \",gen_flagged)\n"
      ],
      "execution_count": 21,
      "outputs": [
        {
          "output_type": "stream",
          "text": [
            "When k is  0.002\n",
            "When k is  0.008\n",
            "When k is  0.016\n",
            "When k is  0.018\n",
            "gen flagged -  150.99648 file name is -  NFI-01810018.png\n",
            "gen flagged -  150.99648 file name is -  NFI-01804018.png\n",
            "gen flagged -  150.99648 file name is -  NFI-01811018.png\n",
            "gen flagged -  150.99648 file name is -  NFI-01807018.png\n",
            "gen flagged -  150.99648 file name is -  NFI-01802018.png\n",
            "When k is  0.024\n",
            "gen flagged -  143.90833 file name is -  NFI-02401024.png\n",
            "gen flagged -  143.90833 file name is -  NFI-02409024.png\n",
            "gen flagged -  143.90833 file name is -  NFI-02405024.png\n",
            "gen flagged -  143.90833 file name is -  NFI-02402024.png\n",
            "gen flagged -  143.90833 file name is -  NFI-02404024.png\n",
            "gen flagged -  143.90833 file name is -  NFI-02403024.png\n",
            "gen flagged -  143.90833 file name is -  NFI-02410024.png\n",
            "gen flagged -  143.90833 file name is -  NFI-02412024.png\n",
            "gen flagged -  143.90833 file name is -  NFI-02407024.png\n",
            "gen flagged -  143.90833 file name is -  NFI-02411024.png\n",
            "gen flagged -  143.90833 file name is -  NFI-02408024.png\n",
            "When k is  0.033\n",
            "When k is  0.035\n",
            "When k is  0.044\n",
            "When k is  0.046\n",
            "When k is  0.063\n",
            "When k is  0.07\n",
            "gen flagged -  169.00455 file name is -  NFI-07008070.png\n",
            "gen flagged -  169.00455 file name is -  NFI-07001070.png\n",
            "gen flagged -  169.00455 file name is -  NFI-07007070.png\n",
            "gen flagged -  169.00455 file name is -  NFI-07011070.png\n",
            "gen flagged -  169.00455 file name is -  NFI-07006070.png\n",
            "gen flagged -  169.00455 file name is -  NFI-07004070.png\n",
            "gen flagged -  169.00455 file name is -  NFI-07012070.png\n",
            "gen flagged -  169.00455 file name is -  NFI-07009070.png\n",
            "gen flagged -  169.00455 file name is -  NFI-07003070.png\n",
            "gen flagged -  169.00455 file name is -  NFI-07002070.png\n",
            "gen flagged -  169.00455 file name is -  NFI-07005070.png\n",
            "When k is  0.071\n",
            "gen flagged -  150.31375 file name is -  NFI-07106071.png\n",
            "gen flagged -  150.31375 file name is -  NFI-07109071.png\n",
            "gen flagged -  150.31375 file name is -  NFI-07102071.png\n",
            "gen flagged -  150.31375 file name is -  NFI-07112071.png\n",
            "gen flagged -  150.31375 file name is -  NFI-07111071.png\n",
            "gen flagged -  150.31375 file name is -  NFI-07108071.png\n",
            "gen flagged -  150.31375 file name is -  NFI-07103071.png\n",
            "gen flagged -  150.31375 file name is -  NFI-07107071.png\n",
            "gen flagged -  150.31375 file name is -  NFI-07110071.png\n",
            "gen flagged -  150.31375 file name is -  NFI-07104071.png\n",
            "gen flagged -  150.31375 file name is -  NFI-07101071.png\n",
            "When k is  0.077\n",
            "gen flagged -  166.55458 file name is -  NFI-07706077.png\n",
            "gen flagged -  166.55458 file name is -  NFI-07701077.png\n",
            "gen flagged -  166.55458 file name is -  NFI-07711077.png\n",
            "gen flagged -  166.55458 file name is -  NFI-07708077.png\n",
            "gen flagged -  166.55458 file name is -  NFI-07704077.png\n",
            "gen flagged -  166.55458 file name is -  NFI-07710077.png\n",
            "gen flagged -  166.55458 file name is -  NFI-07703077.png\n",
            "gen flagged -  166.55458 file name is -  NFI-07707077.png\n",
            "gen flagged -  166.55458 file name is -  NFI-07702077.png\n",
            "gen flagged -  166.55458 file name is -  NFI-07712077.png\n",
            "gen flagged -  166.55458 file name is -  NFI-07709077.png\n",
            "When k is  0.084\n",
            "gen flagged -  141.40533 file name is -  NFI-08409084.png\n",
            "gen flagged -  141.40533 file name is -  NFI-08403084.png\n",
            "gen flagged -  141.40533 file name is -  NFI-08407084.png\n",
            "gen flagged -  141.40533 file name is -  NFI-08401084.png\n",
            "gen flagged -  141.40533 file name is -  NFI-08406084.png\n",
            "gen flagged -  141.40533 file name is -  NFI-08412084.png\n",
            "gen flagged -  141.40533 file name is -  NFI-08410084.png\n",
            "gen flagged -  141.40533 file name is -  NFI-08404084.png\n",
            "gen flagged -  141.40533 file name is -  NFI-08402084.png\n",
            "gen flagged -  141.40533 file name is -  NFI-08408084.png\n",
            "gen flagged -  141.40533 file name is -  NFI-08405084.png\n",
            "When k is  0.085\n",
            "When k is  0.086\n",
            "gen flagged -  152.58522 file name is -  NFI-08608086.png\n",
            "gen flagged -  152.58522 file name is -  NFI-08610086.png\n",
            "gen flagged -  152.58522 file name is -  NFI-08602086.png\n",
            "gen flagged -  152.58522 file name is -  NFI-08609086.png\n",
            "gen flagged -  152.58522 file name is -  NFI-08605086.png\n",
            "gen flagged -  152.58522 file name is -  NFI-08607086.png\n",
            "gen flagged -  152.58522 file name is -  NFI-08606086.png\n",
            "gen flagged -  152.58522 file name is -  NFI-08611086.png\n",
            "gen flagged -  152.58522 file name is -  NFI-08612086.png\n",
            "gen flagged -  152.58522 file name is -  NFI-08604086.png\n",
            "gen flagged -  152.58522 file name is -  NFI-08601086.png\n",
            "When k is  0.089\n",
            "When k is  0.092\n",
            "When k is  0.093\n",
            "gen flagged -  170.93704 file name is -  NFI-09309093.png\n",
            "gen flagged -  170.93704 file name is -  NFI-09308093.png\n",
            "gen flagged -  170.93704 file name is -  NFI-09307093.png\n",
            "gen flagged -  170.93704 file name is -  NFI-09305093.png\n",
            "gen flagged -  170.93704 file name is -  NFI-09310093.png\n",
            "gen flagged -  170.93704 file name is -  NFI-09306093.png\n",
            "gen flagged -  170.93704 file name is -  NFI-09301093.png\n",
            "gen flagged -  170.93704 file name is -  NFI-09302093.png\n",
            "gen flagged -  170.93704 file name is -  NFI-09304093.png\n",
            "gen flagged -  170.93704 file name is -  NFI-09311093.png\n",
            "gen flagged -  170.93704 file name is -  NFI-09303093.png\n",
            "forg_passed is  0\n",
            "gen_flagged is  82\n"
          ],
          "name": "stdout"
        }
      ]
    },
    {
      "cell_type": "code",
      "metadata": {
        "id": "Gvsp8nGzBK_V"
      },
      "source": [
        "def getfilest(num,gen,forg):\n",
        "    a=os.listdir(gen)\n",
        "    b=os.listdir(forg)\n",
        "    c=str(num)\n",
        "    c=c[2:]\n",
        "    if(len(c)==2):\n",
        "        c=c+\"0\"\n",
        "    \n",
        "    n,m=[],[]\n",
        "    for i in b:\n",
        "        if i.endswith(c+\".png\"):\n",
        "            n=n+[i]\n",
        "        elif i.endswith(c+\".PNG\"):\n",
        "            n=n+[i]\n",
        "    for i in a:\n",
        "        if i.endswith(c+\".png\"):\n",
        "            m=m+[i]\n",
        "        elif i.endswith(c+\".PNG\"):\n",
        "            m=m+[i]\n",
        "    return m.pop(),m.pop(),n,m"
      ],
      "execution_count": 22,
      "outputs": []
    },
    {
      "cell_type": "code",
      "metadata": {
        "colab": {
          "base_uri": "https://localhost:8080/"
        },
        "id": "TFFxm1I3BMdi",
        "outputId": "1f1952fd-7ae1-4063-ffc2-9f2d87f75932"
      },
      "source": [
        "forg_passed=0\n",
        "gen_flagged=0\n",
        "x=[0.002, 0.008, 0.016, 0.018, 0.024, 0.033, 0.035, 0.044, 0.046, 0.063,\n",
        "   0.070, 0.071, 0.077, 0.084, 0.085, 0.086, 0.089, 0.092, 0.093]\n",
        "\n",
        "for k in x: #the id of signatures you want to check\n",
        "    print(\"When k is \", k)\n",
        "    anc1,anc2,neg,pos=getfilest(k,gent,forgt)\n",
        "    \n",
        "    anchor1=returnimages(gent,anc1)\n",
        "    anchor2=returnimages(gent,anc2)\n",
        "    for i in range(len(pos)): #pos\n",
        "        positive=returnimages(gent,pos[i])\n",
        "        x=model.predict([anchor1,positive,anchor2])\n",
        "        a1, p, a2 = x[0,0:512], x[0,512:1024], x[0,1024:1536]\n",
        "        #dist=sum(a-p)\n",
        "        dist1=np.linalg.norm(a1-p)\n",
        "        dist2=np.linalg.norm(a2-p)\n",
        "        dist=(dist1+dist2)/2\n",
        "        #print(\"positive distance is \",dist)\n",
        "        if(dist>145):\n",
        "        #  print(\"0\")\n",
        "            gen_flagged=gen_flagged+1\n",
        "            print(\"gen flagged - \",dist, \"file name is - \", pos[i])\n",
        "            \n",
        "        else:\n",
        "            gen_flagged=gen_flagged\n",
        "        #   print(\"1\")\n",
        "        \n",
        "    for j in range(len(neg)): #neg\n",
        "        negative=returnimages(forgt,neg[j])\n",
        "        x=model.predict([anchor1,negative,anchor2])\n",
        "        a1, n, a2 = x[0,0:512], x[0,512:1024], x[0,1024:1536]\n",
        "        #dist=sum(a-n)\n",
        "        dist1=np.linalg.norm(a1-n)\n",
        "        dist2=np.linalg.norm(a2-n)\n",
        "        #print(\"negative distance is \",dist)\n",
        "        dist=(dist1+dist2)/2\n",
        "        if(dist>130):\n",
        "            forg_passed=forg_passed\n",
        "          #  print(\"0\")\n",
        "        else:\n",
        "            forg_passed=forg_passed+1\n",
        "            print(\"forg passed - \",dist, \"file name is - \", neg[j])\n",
        "          #  print(\"1\")\n",
        "\n",
        "print(\"forg_passed is \",forg_passed)\n",
        "print(\"gen_flagged is \",gen_flagged)\n"
      ],
      "execution_count": 26,
      "outputs": [
        {
          "output_type": "stream",
          "text": [
            "When k is  0.002\n",
            "When k is  0.008\n",
            "When k is  0.016\n",
            "When k is  0.018\n",
            "gen flagged -  159.61947631835938 file name is -  NFI-01810018.png\n",
            "gen flagged -  159.61947631835938 file name is -  NFI-01804018.png\n",
            "gen flagged -  159.61947631835938 file name is -  NFI-01811018.png\n",
            "gen flagged -  159.61947631835938 file name is -  NFI-01807018.png\n",
            "When k is  0.024\n",
            "When k is  0.033\n",
            "forg passed -  129.34054565429688 file name is -  NFI-02704033.png\n",
            "forg passed -  129.34054565429688 file name is -  NFI-01706033.png\n",
            "forg passed -  129.34054565429688 file name is -  NFI-02804033.png\n",
            "forg passed -  129.34054565429688 file name is -  NFI-01703033.png\n",
            "forg passed -  129.34054565429688 file name is -  NFI-05905033.png\n",
            "forg passed -  129.34054565429688 file name is -  NFI-01604033.png\n",
            "forg passed -  129.34054565429688 file name is -  NFI-02706033.png\n",
            "forg passed -  129.34054565429688 file name is -  NFI-02703033.png\n",
            "forg passed -  129.34054565429688 file name is -  NFI-05902033.png\n",
            "forg passed -  129.34054565429688 file name is -  NFI-01602033.png\n",
            "forg passed -  129.34054565429688 file name is -  NFI-02805033.png\n",
            "forg passed -  129.34054565429688 file name is -  NFI-02801033.png\n",
            "forg passed -  129.34054565429688 file name is -  NFI-02806033.png\n",
            "forg passed -  129.34054565429688 file name is -  NFI-02204033.png\n",
            "forg passed -  129.34054565429688 file name is -  NFI-02701033.png\n",
            "forg passed -  129.34054565429688 file name is -  NFI-01701033.png\n",
            "forg passed -  129.34054565429688 file name is -  NFI-02802033.png\n",
            "forg passed -  129.34054565429688 file name is -  NFI-02206033.png\n",
            "forg passed -  129.34054565429688 file name is -  NFI-01601033.png\n",
            "forg passed -  129.34054565429688 file name is -  NFI-01704033.png\n",
            "forg passed -  129.34054565429688 file name is -  NFI-02803033.png\n",
            "forg passed -  129.34054565429688 file name is -  NFI-05901033.png\n",
            "forg passed -  129.34054565429688 file name is -  NFI-02205033.png\n",
            "forg passed -  129.34054565429688 file name is -  NFI-01705033.png\n",
            "forg passed -  129.34054565429688 file name is -  NFI-05904033.png\n",
            "forg passed -  129.34054565429688 file name is -  NFI-05903033.png\n",
            "forg passed -  129.34054565429688 file name is -  NFI-01605033.png\n",
            "forg passed -  129.34054565429688 file name is -  NFI-01702033.png\n",
            "forg passed -  129.34054565429688 file name is -  NFI-01603033.png\n",
            "forg passed -  129.34054565429688 file name is -  NFI-02705033.png\n",
            "forg passed -  129.34054565429688 file name is -  NFI-05906033.png\n",
            "forg passed -  129.34054565429688 file name is -  NFI-01606033.png\n",
            "forg passed -  129.34054565429688 file name is -  NFI-02202033.png\n",
            "forg passed -  129.34054565429688 file name is -  NFI-02702033.png\n",
            "forg passed -  129.34054565429688 file name is -  NFI-02201033.png\n",
            "forg passed -  129.34054565429688 file name is -  NFI-02203033.png\n",
            "When k is  0.035\n",
            "forg passed -  128.8963165283203 file name is -  NFI-08903035.png\n",
            "forg passed -  128.8963165283203 file name is -  NFI-00303035.png\n",
            "forg passed -  128.8963165283203 file name is -  NFI-00305035.png\n",
            "forg passed -  128.8963165283203 file name is -  NFI-01105035.png\n",
            "forg passed -  128.8963165283203 file name is -  NFI-10006035.png\n",
            "forg passed -  128.8963165283203 file name is -  NFI-08906035.png\n",
            "forg passed -  128.8963165283203 file name is -  NFI-00304035.png\n",
            "forg passed -  128.8963165283203 file name is -  NFI-01102035.png\n",
            "forg passed -  128.8963165283203 file name is -  NFI-10004035.png\n",
            "forg passed -  128.8963165283203 file name is -  NFI-01103035.png\n",
            "forg passed -  128.8963165283203 file name is -  NFI-00302035.png\n",
            "forg passed -  128.8963165283203 file name is -  NFI-08904035.png\n",
            "forg passed -  128.8963165283203 file name is -  NFI-01101035.png\n",
            "forg passed -  128.8963165283203 file name is -  NFI-10003035.png\n",
            "forg passed -  128.8963165283203 file name is -  NFI-10001035.png\n",
            "forg passed -  128.8963165283203 file name is -  NFI-10005035.png\n",
            "forg passed -  128.8963165283203 file name is -  NFI-01106035.png\n",
            "forg passed -  128.8963165283203 file name is -  NFI-08902035.png\n",
            "forg passed -  128.8963165283203 file name is -  NFI-10002035.png\n",
            "forg passed -  128.8963165283203 file name is -  NFI-00306035.png\n",
            "forg passed -  128.8963165283203 file name is -  NFI-00301035.png\n",
            "forg passed -  128.8963165283203 file name is -  NFI-01104035.png\n",
            "forg passed -  128.8963165283203 file name is -  NFI-08901035.png\n",
            "forg passed -  128.8963165283203 file name is -  NFI-08905035.png\n",
            "When k is  0.044\n",
            "When k is  0.046\n",
            "When k is  0.063\n",
            "When k is  0.07\n",
            "gen flagged -  173.2981719970703 file name is -  NFI-07008070.png\n",
            "gen flagged -  173.2981719970703 file name is -  NFI-07001070.png\n",
            "gen flagged -  173.2981719970703 file name is -  NFI-07007070.png\n",
            "gen flagged -  173.2981719970703 file name is -  NFI-07011070.png\n",
            "gen flagged -  173.2981719970703 file name is -  NFI-07006070.png\n",
            "gen flagged -  173.2981719970703 file name is -  NFI-07004070.png\n",
            "gen flagged -  173.2981719970703 file name is -  NFI-07012070.png\n",
            "gen flagged -  173.2981719970703 file name is -  NFI-07009070.png\n",
            "gen flagged -  173.2981719970703 file name is -  NFI-07003070.png\n",
            "gen flagged -  173.2981719970703 file name is -  NFI-07002070.png\n",
            "When k is  0.071\n",
            "gen flagged -  147.0492706298828 file name is -  NFI-07106071.png\n",
            "gen flagged -  147.0492706298828 file name is -  NFI-07109071.png\n",
            "gen flagged -  147.0492706298828 file name is -  NFI-07102071.png\n",
            "gen flagged -  147.0492706298828 file name is -  NFI-07112071.png\n",
            "gen flagged -  147.0492706298828 file name is -  NFI-07111071.png\n",
            "gen flagged -  147.0492706298828 file name is -  NFI-07108071.png\n",
            "gen flagged -  147.0492706298828 file name is -  NFI-07103071.png\n",
            "gen flagged -  147.0492706298828 file name is -  NFI-07107071.png\n",
            "gen flagged -  147.0492706298828 file name is -  NFI-07110071.png\n",
            "gen flagged -  147.0492706298828 file name is -  NFI-07104071.png\n",
            "When k is  0.077\n",
            "gen flagged -  161.78887939453125 file name is -  NFI-07706077.png\n",
            "gen flagged -  161.78887939453125 file name is -  NFI-07701077.png\n",
            "gen flagged -  161.78887939453125 file name is -  NFI-07711077.png\n",
            "gen flagged -  161.78887939453125 file name is -  NFI-07708077.png\n",
            "gen flagged -  161.78887939453125 file name is -  NFI-07704077.png\n",
            "gen flagged -  161.78887939453125 file name is -  NFI-07710077.png\n",
            "gen flagged -  161.78887939453125 file name is -  NFI-07703077.png\n",
            "gen flagged -  161.78887939453125 file name is -  NFI-07707077.png\n",
            "gen flagged -  161.78887939453125 file name is -  NFI-07702077.png\n",
            "gen flagged -  161.78887939453125 file name is -  NFI-07712077.png\n",
            "When k is  0.084\n",
            "When k is  0.085\n",
            "When k is  0.086\n",
            "gen flagged -  155.97381591796875 file name is -  NFI-08608086.png\n",
            "gen flagged -  155.97381591796875 file name is -  NFI-08610086.png\n",
            "gen flagged -  155.97381591796875 file name is -  NFI-08602086.png\n",
            "gen flagged -  155.97381591796875 file name is -  NFI-08609086.png\n",
            "gen flagged -  155.97381591796875 file name is -  NFI-08605086.png\n",
            "gen flagged -  155.97381591796875 file name is -  NFI-08607086.png\n",
            "gen flagged -  155.97381591796875 file name is -  NFI-08606086.png\n",
            "gen flagged -  155.97381591796875 file name is -  NFI-08611086.png\n",
            "gen flagged -  155.97381591796875 file name is -  NFI-08612086.png\n",
            "gen flagged -  155.97381591796875 file name is -  NFI-08604086.png\n",
            "When k is  0.089\n",
            "When k is  0.092\n",
            "When k is  0.093\n",
            "gen flagged -  165.90771484375 file name is -  NFI-09309093.png\n",
            "gen flagged -  165.90771484375 file name is -  NFI-09308093.png\n",
            "gen flagged -  165.90771484375 file name is -  NFI-09307093.png\n",
            "gen flagged -  165.90771484375 file name is -  NFI-09305093.png\n",
            "gen flagged -  165.90771484375 file name is -  NFI-09310093.png\n",
            "gen flagged -  165.90771484375 file name is -  NFI-09306093.png\n",
            "gen flagged -  165.90771484375 file name is -  NFI-09301093.png\n",
            "gen flagged -  165.90771484375 file name is -  NFI-09302093.png\n",
            "gen flagged -  165.90771484375 file name is -  NFI-09304093.png\n",
            "gen flagged -  165.90771484375 file name is -  NFI-09311093.png\n",
            "forg_passed is  60\n",
            "gen_flagged is  54\n"
          ],
          "name": "stdout"
        }
      ]
    }
  ]
}