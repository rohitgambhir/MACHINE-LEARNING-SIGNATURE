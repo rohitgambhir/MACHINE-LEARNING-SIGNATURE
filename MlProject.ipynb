{
  "nbformat": 4,
  "nbformat_minor": 0,
  "metadata": {
    "colab": {
      "name": "MlProject.ipynb",
      "provenance": [],
      "mount_file_id": "1SmQAfYeTMgoSGsv1n-sLehOO8-o62gWZ",
      "authorship_tag": "ABX9TyMB9PvBmhMT10fBWP2TDEsl",
      "include_colab_link": true
    },
    "kernelspec": {
      "name": "python3",
      "display_name": "Python 3"
    },
    "language_info": {
      "name": "python"
    },
    "accelerator": "GPU"
  },
  "cells": [
    {
      "cell_type": "markdown",
      "metadata": {
        "id": "view-in-github",
        "colab_type": "text"
      },
      "source": [
        "<a href=\"https://colab.research.google.com/github/rohitgambhir/MACHINE-LEARNING-SIGNATURE/blob/main/MlProject.ipynb\" target=\"_parent\"><img src=\"https://colab.research.google.com/assets/colab-badge.svg\" alt=\"Open In Colab\"/></a>"
      ]
    },
    {
      "cell_type": "code",
      "metadata": {
        "id": "B72r8kWf4qHC",
        "colab": {
          "base_uri": "https://localhost:8080/"
        },
        "outputId": "a54c4e52-78c5-4377-cf70-77b2d2277fb7"
      },
      "source": [
        "from google.colab import drive\n",
        "drive.mount('/content/drive/')\n"
      ],
      "execution_count": 2,
      "outputs": [
        {
          "output_type": "stream",
          "text": [
            "Drive already mounted at /content/drive/; to attempt to forcibly remount, call drive.mount(\"/content/drive/\", force_remount=True).\n"
          ],
          "name": "stdout"
        }
      ]
    },
    {
      "cell_type": "code",
      "metadata": {
        "id": "xv9OcIF8mMQa"
      },
      "source": [
        ""
      ],
      "execution_count": null,
      "outputs": []
    },
    {
      "cell_type": "code",
      "metadata": {
        "id": "FzjiMG104zrd"
      },
      "source": [
        "import os\n",
        "import numpy as np\n",
        "import matplotlib.pyplot as plt\n",
        "import matplotlib.mlab as mlab\n",
        "import cv2\n",
        "import math\n",
        "from tensorflow import keras\n",
        "import keras\n",
        "import keras.backend as K\n",
        "import tensorflow as tf\n",
        "from keras import applications\n",
        "from keras.models import Model\n",
        "from keras.layers import Flatten, Dense, Input,concatenate\n",
        "from keras.optimizers import Adam\n",
        "from keras.models import load_model, model_from_json\n",
        "import random\n",
        "gen=\"/content/drive/MyDrive/input/handwritten signatures/sample_Signature/sample_Signature/genuine\"\n",
        "forg=\"/content/drive/MyDrive/input/handwritten signatures/sample_Signature/sample_Signature/forged\"\n",
        "\n",
        "gentr=\"/content/drive/MyDrive/input/sigcomp 2009 train/Sigcomp 2009 train/genuine\"\n",
        "forgtr=\"/content/drive/MyDrive/input/sigcomp 2009 train/Sigcomp 2009 train/forgeries\"\n",
        "\n",
        "gent=\"/content/drive/MyDrive/input/Sigcomp 2009/sigcomp 2009/genuines\"\n",
        "forgt=\"/content/drive/MyDrive/input/Sigcomp 2009/sigcomp 2009/forgeries\""
      ],
      "execution_count": 3,
      "outputs": []
    },
    {
      "cell_type": "code",
      "metadata": {
        "id": "6dgdS5i95Igm"
      },
      "source": [
        "img_width, img_height, channels = 224, 224, 3\n",
        "\n",
        "dim = (img_width, img_height)\n",
        "\n",
        "def to_rgb(img):\n",
        "    img = cv2.resize(img, dim, interpolation = cv2.INTER_AREA) \n",
        "    img_rgb = np.asarray(np.dstack((img, img, img)), dtype=np.uint8)\n",
        "    return img_rgb\n",
        "\n",
        "def returnimages(path,img):\n",
        "    image=cv2.imread(path+\"/\"+ img)                  #bringing the image\n",
        "    image=cv2.resize(image, (img_width, img_height))\n",
        "    image=cv2.cvtColor(image, cv2.COLOR_BGR2GRAY)\n",
        "    image=to_rgb(image).reshape(1,img_width, img_height,3)/255.0       #resizing and normalizing    \n",
        "    return image\n",
        "\n",
        "def getfiles(num,gen,forg):\n",
        "    a=os.listdir(gen)\n",
        "    b=os.listdir(forg)\n",
        "    c=str(num)\n",
        "    c=c[2:]\n",
        "    if(len(c)==2):\n",
        "        c=c+\"0\"\n",
        "    \n",
        "    n,m=[],[]\n",
        "    for i in b:\n",
        "        if i.endswith(c+\".png\"):\n",
        "            n=n+[i]\n",
        "        elif i.endswith(c+\".PNG\"):\n",
        "            n=n+[i]\n",
        "    for i in a:\n",
        "        if i.endswith(c+\".png\"):\n",
        "            m=m+[i]\n",
        "        elif i.endswith(c+\".PNG\"):\n",
        "            m=m+[i]\n",
        "    return m.pop(),n,m\n",
        "\n",
        "def getfiles2(num):\n",
        "    a=os.listdir(gentr)\n",
        "    b=os.listdir(forgtr)\n",
        "    c=str(num)\n",
        "    c=c[2:]\n",
        "    if(len(c)==2):\n",
        "        c=c+\"0\"\n",
        "    n,m=[],[]\n",
        "    for i in b:\n",
        "        if (i.endswith(c+\"_001_6g.png\") or i.endswith(c+\"_002_6g.png\") or i.endswith(c+\"_003_6g.png\")\n",
        "            or i.endswith(c+\"_004_6g.png\") or i.endswith(c+\"_005_6g.png\")):\n",
        "            n=n+[i]\n",
        "        elif (i.endswith(c+\"_001_6g.PNG\") or i.endswith(c+\"_002_6g.PNG\") or i.endswith(c+\"_003_6g.PNG\")\n",
        "              or i.endswith(c+\"_004_6g.PNG\") or i.endswith(c+\"_005_6g.PNG\")):\n",
        "            n=n+[i]\n",
        "    for i in a:\n",
        "        if (i.endswith(c+\"_001_6g.png\") or i.endswith(c+\"_002_6g.png\") or i.endswith(c+\"_003_6g.png\")\n",
        "            or i.endswith(c+\"_004_6g.png\") or i.endswith(c+\"_005_6g.png\")):\n",
        "            m=m+[i]\n",
        "        elif (i.endswith(c+\"_001_6g.PNG\") or i.endswith(c+\"_002_6g.PNG\") or i.endswith(c+\"_003_6g.PNG\")\n",
        "              or i.endswith(c+\"_004_6g.PNG\") or i.endswith(c+\"_005_6g.PNG\")):\n",
        "            m=m+[i]\n",
        "    return m.pop(),n,m\n"
      ],
      "execution_count": 4,
      "outputs": []
    },
    {
      "cell_type": "code",
      "metadata": {
        "id": "xA6OHVXTDHwf"
      },
      "source": [
        ""
      ],
      "execution_count": null,
      "outputs": []
    },
    {
      "cell_type": "code",
      "metadata": {
        "id": "hk14LRPj5blJ"
      },
      "source": [
        "def triplet_loss(y_true, y_pred):\n",
        "    alpha = 0.5\n",
        "    anchor, positive, negative =y_pred[0,0:512], y_pred[0,512:1024], y_pred[0,1024:1536]\n",
        "    \n",
        "    positive_distance = K.mean(K.square(anchor - positive),axis=-1)\n",
        "    negative_distance = K.mean(K.square(anchor - negative),axis=-1)\n",
        "    return K.mean(K.maximum(0.0, positive_distance - negative_distance + alpha))\n",
        "\n"
      ],
      "execution_count": 5,
      "outputs": []
    },
    {
      "cell_type": "code",
      "metadata": {
        "id": "SBxa2Ko25tYE",
        "colab": {
          "base_uri": "https://localhost:8080/"
        },
        "outputId": "8c1faeba-fce2-4826-c72f-b6917f3bccb3"
      },
      "source": [
        "\n",
        "model = applications.vgg19.VGG19(weights='imagenet', include_top=False, pooling='max')\n",
        "for layer in model.layers[:15]:\n",
        "    layer.trainable = False\n",
        "\n",
        "anchor_in = Input(shape=(img_width, img_height, channels))\n",
        "pos_in = Input(shape=(img_width, img_height, channels))\n",
        "neg_in = Input(shape=(img_width, img_height, channels))\n",
        "\n",
        "anchor_out = model(anchor_in)\n",
        "pos_out = model(pos_in)\n",
        "neg_out = model(neg_in)\n",
        "merged_vector = concatenate([anchor_out, pos_out, neg_out],axis=1)\n",
        "\n",
        "model = Model(inputs=[anchor_in, pos_in, neg_in], outputs=merged_vector)"
      ],
      "execution_count": 6,
      "outputs": [
        {
          "output_type": "stream",
          "text": [
            "Downloading data from https://storage.googleapis.com/tensorflow/keras-applications/vgg19/vgg19_weights_tf_dim_ordering_tf_kernels_notop.h5\n",
            "80142336/80134624 [==============================] - 1s 0us/step\n"
          ],
          "name": "stdout"
        }
      ]
    },
    {
      "cell_type": "code",
      "metadata": {
        "id": "53W9q9oroveI"
      },
      "source": [
        "model.compile(optimizer=Adam(lr=0.000005),loss=triplet_loss)"
      ],
      "execution_count": 8,
      "outputs": []
    },
    {
      "cell_type": "code",
      "metadata": {
        "id": "tPyrXYRpo1i5"
      },
      "source": [
        "def generator():\n",
        "    for i in range(1,31):\n",
        "        if(i<10):\n",
        "            anc,neg,pos=getfiles(float(\"0.00\"+str(i)),gen,forg)\n",
        "        else:\n",
        "            anc,neg,pos=getfiles(float(\"0.0\"+str(i)),gen,forg)\n",
        "        for i in range(len(neg)):\n",
        "            for j in range(len(pos)):\n",
        "                anchor=returnimages(gen,anc)\n",
        "                positive=returnimages(gen,pos[j])\n",
        "                negative=returnimages(forg,neg[i])\n",
        "               # yield ([anc,pos[j],neg[i]],[0])\n",
        "                yield ([anchor,positive,negative],np.asarray([0]))"
      ],
      "execution_count": 9,
      "outputs": []
    },
    {
      "cell_type": "code",
      "metadata": {
        "colab": {
          "base_uri": "https://localhost:8080/"
        },
        "id": "iFqqgZ9Wo4at",
        "outputId": "48894f64-4175-4435-ab7c-71d821b94d70"
      },
      "source": [
        "for x in range(2):\n",
        "    model.fit_generator(generator() , steps_per_epoch=200,epochs=3)"
      ],
      "execution_count": 10,
      "outputs": [
        {
          "output_type": "stream",
          "text": [
            "/usr/local/lib/python3.7/dist-packages/tensorflow/python/keras/engine/training.py:1844: UserWarning: `Model.fit_generator` is deprecated and will be removed in a future version. Please use `Model.fit`, which supports generators.\n",
            "  warnings.warn('`Model.fit_generator` is deprecated and '\n"
          ],
          "name": "stderr"
        },
        {
          "output_type": "stream",
          "text": [
            "Epoch 1/3\n",
            "200/200 [==============================] - 117s 422ms/step - loss: 0.2365\n",
            "Epoch 2/3\n",
            "200/200 [==============================] - 86s 422ms/step - loss: 0.0601\n",
            "Epoch 3/3\n",
            "200/200 [==============================] - 130s 645ms/step - loss: 0.0744\n",
            "Epoch 1/3\n",
            "200/200 [==============================] - 36s 181ms/step - loss: 0.0033\n",
            "Epoch 2/3\n",
            "200/200 [==============================] - 36s 182ms/step - loss: 2.3349e-04\n",
            "Epoch 3/3\n",
            "200/200 [==============================] - 46s 233ms/step - loss: 5.9733e-04\n"
          ],
          "name": "stdout"
        }
      ]
    },
    {
      "cell_type": "code",
      "metadata": {
        "id": "TOJHAlVi_3s_"
      },
      "source": [
        "model.compile(optimizer=Adam(lr=0.000002),loss=triplet_loss)"
      ],
      "execution_count": 11,
      "outputs": []
    },
    {
      "cell_type": "code",
      "metadata": {
        "id": "q2nQ99h3AW_A"
      },
      "source": [
        "def generator2():\n",
        "    x=[\"0.001\",\"0.004\", \"0.005\", \"0.006\", \"0.007\",\n",
        "       \"0.008\", \"0.009\", \"0.010\", \"0.011\", \"0.001\", \"0.010\"]\n",
        "  #  x=[\"0.001\", \"0.004\", \"0.006\", \"0.010\"]\n",
        "\n",
        "    for k in x:\n",
        "        anc,neg,pos=getfiles2(k)\n",
        "        frac=0.95    \n",
        "        inds = set(random.sample(list(range(len(neg))), int(frac*len(neg))))\n",
        "        neg = [n for i,n in enumerate(neg) if i not in inds]\n",
        "    \n",
        "        for i in range(len(neg)):\n",
        "            for j in range(len(pos)):\n",
        "                anchor=returnimages(gentr,anc)\n",
        "                positive=returnimages(gentr,pos[j])\n",
        "                negative=returnimages(forgtr,neg[i])\n",
        "               # yield ([anc,pos[j],neg[i]])\n",
        "                yield ([anchor,positive,negative],np.asarray([0]))"
      ],
      "execution_count": 12,
      "outputs": []
    },
    {
      "cell_type": "code",
      "metadata": {
        "colab": {
          "base_uri": "https://localhost:8080/"
        },
        "id": "pDB5jgdLAkE9",
        "outputId": "fcde6775-7e40-4e8c-a18b-776c6102a620"
      },
      "source": [
        "for x in range(2):\n",
        "    model.fit_generator(generator2(),steps_per_epoch=32,epochs=11)"
      ],
      "execution_count": 13,
      "outputs": [
        {
          "output_type": "stream",
          "text": [
            "/usr/local/lib/python3.7/dist-packages/tensorflow/python/keras/engine/training.py:1844: UserWarning: `Model.fit_generator` is deprecated and will be removed in a future version. Please use `Model.fit`, which supports generators.\n",
            "  warnings.warn('`Model.fit_generator` is deprecated and '\n"
          ],
          "name": "stderr"
        },
        {
          "output_type": "stream",
          "text": [
            "Epoch 1/11\n",
            "32/32 [==============================] - 11s 310ms/step - loss: 0.0885\n",
            "Epoch 2/11\n",
            "32/32 [==============================] - 12s 323ms/step - loss: 0.0000e+00\n",
            "Epoch 3/11\n",
            "32/32 [==============================] - 11s 301ms/step - loss: 0.0196\n",
            "Epoch 4/11\n",
            "32/32 [==============================] - 11s 287ms/step - loss: 0.0476\n",
            "Epoch 5/11\n",
            "32/32 [==============================] - 11s 299ms/step - loss: 0.0034\n",
            "Epoch 6/11\n",
            "32/32 [==============================] - 11s 297ms/step - loss: 0.2741\n",
            "Epoch 7/11\n",
            "32/32 [==============================] - 11s 306ms/step - loss: 0.0995\n",
            "Epoch 8/11\n",
            "32/32 [==============================] - 12s 309ms/step - loss: 0.1772\n",
            "Epoch 9/11\n",
            "32/32 [==============================] - 11s 298ms/step - loss: 0.0600\n",
            "Epoch 10/11\n",
            "32/32 [==============================] - 9s 263ms/step - loss: 0.0051\n",
            "Epoch 11/11\n",
            "32/32 [==============================] - 8s 253ms/step - loss: 0.0432\n",
            "Epoch 1/11\n",
            "32/32 [==============================] - 8s 255ms/step - loss: 0.0099\n",
            "Epoch 2/11\n",
            "32/32 [==============================] - 8s 257ms/step - loss: 0.0000e+00\n",
            "Epoch 3/11\n",
            "32/32 [==============================] - 8s 249ms/step - loss: 0.0000e+00\n",
            "Epoch 4/11\n",
            "32/32 [==============================] - 9s 262ms/step - loss: 0.0000e+00\n",
            "Epoch 5/11\n",
            "32/32 [==============================] - 9s 267ms/step - loss: 0.0000e+00\n",
            "Epoch 6/11\n",
            "32/32 [==============================] - 8s 268ms/step - loss: 0.0000e+00\n",
            "Epoch 7/11\n",
            "32/32 [==============================] - 9s 275ms/step - loss: 0.0028\n",
            "Epoch 8/11\n",
            "32/32 [==============================] - 9s 257ms/step - loss: 0.0000e+00\n",
            "Epoch 9/11\n",
            "32/32 [==============================] - 8s 250ms/step - loss: 0.0000e+00\n",
            "Epoch 10/11\n",
            "32/32 [==============================] - 10s 300ms/step - loss: 0.0000e+00\n",
            "Epoch 11/11\n",
            "32/32 [==============================] - 8s 253ms/step - loss: 0.0000e+00\n"
          ],
          "name": "stdout"
        }
      ]
    },
    {
      "cell_type": "code",
      "metadata": {
        "id": "bCpsefLTBMly"
      },
      "source": [
        ""
      ],
      "execution_count": null,
      "outputs": []
    },
    {
      "cell_type": "code",
      "metadata": {
        "colab": {
          "base_uri": "https://localhost:8080/"
        },
        "id": "mF161FWgBE6E",
        "outputId": "657f9bb1-84ca-4175-a100-a528ba37a354"
      },
      "source": [
        "tneg,tpos=0,0\n",
        "x=[0.002, 0.008, 0.016, 0.018, 0.024, 0.033, 0.035, 0.044, 0.046, 0.063,\n",
        "   0.070, 0.071, 0.077, 0.084, 0.085, 0.086, 0.089, 0.092, 0.093]\n",
        "for k in x: #the id of signatures you want to check\n",
        "    #print(\"When k is \", k)\n",
        "    anc,neg,pos=getfiles(k,gent,forgt)\n",
        "    tneg=tneg+len(neg)\n",
        "    tpos=tpos+len(pos)\n",
        "print(tneg,tpos)\n"
      ],
      "execution_count": 14,
      "outputs": [
        {
          "output_type": "stream",
          "text": [
            "624 203\n"
          ],
          "name": "stdout"
        }
      ]
    },
    {
      "cell_type": "code",
      "metadata": {
        "id": "07aO65aqBO8d"
      },
      "source": [
        "model.save_weights('/content/drive/MyDrive/input')"
      ],
      "execution_count": null,
      "outputs": []
    },
    {
      "cell_type": "code",
      "metadata": {
        "colab": {
          "base_uri": "https://localhost:8080/"
        },
        "id": "qEPEo0sjDJPr",
        "outputId": "4ddd6d15-70fb-46d2-97d9-73ca5dd9f480"
      },
      "source": [
        "forg_passed=0\n",
        "gen_flagged=0\n",
        "x=[0.002, 0.008, 0.016, 0.018, 0.024, 0.033, 0.035, 0.044, 0.046, 0.063,\n",
        "   0.070, 0.071, 0.077, 0.084, 0.085, 0.086, 0.089, 0.092, 0.093]\n",
        "\n",
        "for k in x: #the id of signatures you want to check\n",
        "    print(\"When k is \", k)\n",
        "    anc,neg,pos=getfiles(k,gent,forgt)\n",
        "    \n",
        "    anchor=returnimages(gent,anc)\n",
        "    for i in range(len(pos)): #pos\n",
        "        positive=returnimages(gent,pos[i])\n",
        "        x=model.predict([anchor,positive,anchor])\n",
        "        a, p, useless = x[0,0:512], x[0,512:1024], x[0,1024:1536]\n",
        "        #dist=sum(a-p)\n",
        "        dist=np.linalg.norm(a-p)\n",
        "        #print(\"positive distance is \",dist)\n",
        "        if(dist>32):\n",
        "        #  print(\"0\")\n",
        "            gen_flagged=gen_flagged+1\n",
        "            print(\"gen flagged - \",dist, \"file name is - \", pos[i])\n",
        "            \n",
        "        else:\n",
        "            gen_flagged=gen_flagged\n",
        "        #   print(\"1\")\n",
        "        \n",
        "    for j in range(len(neg)): #neg\n",
        "        negative=returnimages(forgt,neg[j])\n",
        "        x=model.predict([anchor,negative,anchor])\n",
        "        a, n, useless = x[0,0:512], x[0,512:1024], x[0,1024:1536]\n",
        "        #dist=sum(a-n)\n",
        "        dist=np.linalg.norm(a-n)\n",
        "        #print(\"negative distance is \",dist)\n",
        "        if(dist>32):\n",
        "            forg_passed=forg_passed\n",
        "          #  print(\"0\")\n",
        "        else:\n",
        "            forg_passed=forg_passed+1\n",
        "            print(\"forg passed - \",dist, \"file name is - \", neg[j])\n",
        "          #  print(\"1\")\n",
        "\n",
        "print(\"forg_passed is \",forg_passed)\n",
        "print(\"gen_flagged is \",gen_flagged)\n"
      ],
      "execution_count": 15,
      "outputs": [
        {
          "output_type": "stream",
          "text": [
            "When k is  0.002\n",
            "When k is  0.008\n",
            "When k is  0.016\n",
            "gen flagged -  45.766163 file name is -  NFI-01608016.png\n",
            "gen flagged -  41.956467 file name is -  NFI-01602016.png\n",
            "gen flagged -  47.071587 file name is -  NFI-01606016.png\n",
            "gen flagged -  41.59079 file name is -  NFI-01604016.png\n",
            "gen flagged -  32.788013 file name is -  NFI-01611016.png\n",
            "gen flagged -  44.324654 file name is -  NFI-01601016.png\n",
            "gen flagged -  43.65929 file name is -  NFI-01605016.png\n",
            "gen flagged -  44.37125 file name is -  NFI-01607016.png\n",
            "gen flagged -  35.106693 file name is -  NFI-01603016.png\n",
            "forg passed -  29.366009 file name is -  NFI-07405016.png\n",
            "forg passed -  31.834497 file name is -  NFI-07703016.png\n",
            "forg passed -  31.972685 file name is -  NFI-08801016.png\n",
            "When k is  0.018\n",
            "forg passed -  30.890232 file name is -  NFI-10006018.png\n",
            "forg passed -  26.599453 file name is -  NFI-08906018.png\n",
            "forg passed -  31.120321 file name is -  NFI-10003018.png\n",
            "forg passed -  31.939701 file name is -  NFI-08905018.png\n",
            "When k is  0.024\n",
            "When k is  0.033\n",
            "forg passed -  25.787157 file name is -  NFI-02704033.png\n",
            "forg passed -  27.718832 file name is -  NFI-01604033.png\n",
            "forg passed -  30.729967 file name is -  NFI-02706033.png\n",
            "forg passed -  30.790726 file name is -  NFI-02703033.png\n",
            "forg passed -  28.85167 file name is -  NFI-02701033.png\n",
            "forg passed -  30.025213 file name is -  NFI-01704033.png\n",
            "forg passed -  31.60684 file name is -  NFI-05904033.png\n",
            "forg passed -  30.958263 file name is -  NFI-01605033.png\n",
            "forg passed -  29.97016 file name is -  NFI-01603033.png\n",
            "forg passed -  28.927698 file name is -  NFI-02705033.png\n",
            "forg passed -  29.56688 file name is -  NFI-01606033.png\n",
            "forg passed -  23.140202 file name is -  NFI-02702033.png\n",
            "forg passed -  27.858711 file name is -  NFI-02201033.png\n",
            "When k is  0.035\n",
            "gen flagged -  40.857563 file name is -  NFI-03508035.png\n",
            "gen flagged -  34.755676 file name is -  NFI-03511035.png\n",
            "gen flagged -  36.34656 file name is -  NFI-03505035.png\n",
            "gen flagged -  44.235077 file name is -  NFI-03507035.png\n",
            "gen flagged -  35.366177 file name is -  NFI-03506035.png\n",
            "gen flagged -  36.783012 file name is -  NFI-03510035.png\n",
            "gen flagged -  33.44224 file name is -  NFI-03512035.png\n",
            "gen flagged -  33.661297 file name is -  NFI-03509035.png\n",
            "When k is  0.044\n",
            "gen flagged -  33.081917 file name is -  NFI-04407044.png\n",
            "gen flagged -  32.08971 file name is -  NFI-04404044.png\n",
            "forg passed -  31.558365 file name is -  NFI-01302044.png\n",
            "forg passed -  30.474915 file name is -  NFI-00901044.png\n",
            "forg passed -  31.296036 file name is -  NFI-00606044.png\n",
            "forg passed -  30.856213 file name is -  NFI-00604044.png\n",
            "forg passed -  28.633152 file name is -  NFI-00905044.png\n",
            "forg passed -  29.963133 file name is -  NFI-00906044.png\n",
            "forg passed -  28.969479 file name is -  NFI-00605044.png\n",
            "forg passed -  27.355724 file name is -  NFI-00904044.png\n",
            "When k is  0.046\n",
            "When k is  0.063\n",
            "gen flagged -  32.04772 file name is -  NFI-06302063.png\n",
            "forg passed -  29.397316 file name is -  NFI-08002063.png\n",
            "forg passed -  31.803446 file name is -  NFI-01301063.png\n",
            "forg passed -  25.782696 file name is -  NFI-08001063.png\n",
            "forg passed -  31.602564 file name is -  NFI-01302063.png\n",
            "forg passed -  29.132874 file name is -  NFI-01304063.png\n",
            "When k is  0.07\n",
            "gen flagged -  33.75692 file name is -  NFI-07008070.png\n",
            "gen flagged -  37.163185 file name is -  NFI-07001070.png\n",
            "gen flagged -  36.02341 file name is -  NFI-07006070.png\n",
            "gen flagged -  36.182278 file name is -  NFI-07003070.png\n",
            "gen flagged -  34.025143 file name is -  NFI-07002070.png\n",
            "gen flagged -  33.899967 file name is -  NFI-07005070.png\n",
            "forg passed -  31.069231 file name is -  NFI-05405070.png\n",
            "When k is  0.071\n",
            "gen flagged -  47.864628 file name is -  NFI-07106071.png\n",
            "When k is  0.077\n",
            "gen flagged -  32.31538 file name is -  NFI-07701077.png\n",
            "gen flagged -  35.33825 file name is -  NFI-07711077.png\n",
            "gen flagged -  36.7235 file name is -  NFI-07703077.png\n",
            "gen flagged -  32.1072 file name is -  NFI-07702077.png\n",
            "gen flagged -  36.03638 file name is -  NFI-07709077.png\n",
            "forg passed -  31.547146 file name is -  NFI-02204077.png\n",
            "When k is  0.084\n",
            "gen flagged -  37.45374 file name is -  NFI-08409084.png\n",
            "gen flagged -  41.81727 file name is -  NFI-08403084.png\n",
            "gen flagged -  47.28638 file name is -  NFI-08407084.png\n",
            "gen flagged -  46.46514 file name is -  NFI-08401084.png\n",
            "gen flagged -  43.67361 file name is -  NFI-08406084.png\n",
            "gen flagged -  37.237396 file name is -  NFI-08412084.png\n",
            "gen flagged -  41.77934 file name is -  NFI-08410084.png\n",
            "gen flagged -  49.6346 file name is -  NFI-08404084.png\n",
            "gen flagged -  40.120457 file name is -  NFI-08402084.png\n",
            "gen flagged -  37.46944 file name is -  NFI-08408084.png\n",
            "gen flagged -  45.52368 file name is -  NFI-08405084.png\n",
            "When k is  0.085\n",
            "gen flagged -  38.232704 file name is -  NFI-08511085.png\n",
            "gen flagged -  33.363686 file name is -  NFI-08506085.png\n",
            "gen flagged -  42.758984 file name is -  NFI-08509085.png\n",
            "gen flagged -  34.57524 file name is -  NFI-08507085.png\n",
            "gen flagged -  36.359207 file name is -  NFI-08502085.png\n",
            "gen flagged -  40.549873 file name is -  NFI-08510085.png\n",
            "When k is  0.086\n",
            "gen flagged -  41.741383 file name is -  NFI-08608086.png\n",
            "gen flagged -  40.938168 file name is -  NFI-08610086.png\n",
            "gen flagged -  38.849297 file name is -  NFI-08602086.png\n",
            "gen flagged -  44.748653 file name is -  NFI-08609086.png\n",
            "gen flagged -  47.28564 file name is -  NFI-08605086.png\n",
            "gen flagged -  36.70798 file name is -  NFI-08607086.png\n",
            "gen flagged -  34.526157 file name is -  NFI-08606086.png\n",
            "gen flagged -  42.840622 file name is -  NFI-08611086.png\n",
            "gen flagged -  39.775166 file name is -  NFI-08612086.png\n",
            "gen flagged -  40.75118 file name is -  NFI-08604086.png\n",
            "gen flagged -  45.996933 file name is -  NFI-08601086.png\n",
            "When k is  0.089\n",
            "forg passed -  31.249527 file name is -  NFI-05902089.png\n",
            "forg passed -  29.347404 file name is -  NFI-02202089.png\n",
            "forg passed -  30.163006 file name is -  NFI-05901089.png\n",
            "When k is  0.092\n",
            "gen flagged -  33.908394 file name is -  NFI-09212092.png\n",
            "gen flagged -  45.27753 file name is -  NFI-09204092.png\n",
            "gen flagged -  47.719456 file name is -  NFI-09201092.png\n",
            "gen flagged -  36.06421 file name is -  NFI-09210092.png\n",
            "gen flagged -  42.352493 file name is -  NFI-09203092.png\n",
            "gen flagged -  37.382416 file name is -  NFI-09206092.png\n",
            "gen flagged -  42.776024 file name is -  NFI-09202092.png\n",
            "gen flagged -  39.297092 file name is -  NFI-09209092.png\n",
            "gen flagged -  43.867996 file name is -  NFI-09208092.png\n",
            "gen flagged -  49.398815 file name is -  NFI-09205092.png\n",
            "gen flagged -  38.353825 file name is -  NFI-09207092.png\n",
            "When k is  0.093\n",
            "gen flagged -  32.09235 file name is -  NFI-09306093.png\n",
            "gen flagged -  32.081158 file name is -  NFI-09301093.png\n",
            "gen flagged -  33.69871 file name is -  NFI-09302093.png\n",
            "forg_passed is  38\n",
            "gen_flagged is  74\n"
          ],
          "name": "stdout"
        }
      ]
    },
    {
      "cell_type": "code",
      "metadata": {
        "colab": {
          "base_uri": "https://localhost:8080/"
        },
        "id": "23r-rsXkmOFG",
        "outputId": "44be44c3-6891-4916-889d-bca2603275e5"
      },
      "source": [
        "print(\"accuracy\", ((tneg + tpos)-(forg_passed + gen_flagged))/(tneg+tpos))"
      ],
      "execution_count": 16,
      "outputs": [
        {
          "output_type": "stream",
          "text": [
            "accuracy 0.8645707376058042\n"
          ],
          "name": "stdout"
        }
      ]
    }
  ]
}