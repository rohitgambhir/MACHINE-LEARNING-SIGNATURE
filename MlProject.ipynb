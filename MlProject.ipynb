{
  "nbformat": 4,
  "nbformat_minor": 0,
  "metadata": {
    "colab": {
      "name": "MlProject.ipynb",
      "provenance": [],
      "mount_file_id": "1SmQAfYeTMgoSGsv1n-sLehOO8-o62gWZ",
      "authorship_tag": "ABX9TyOoX7sYsefLDjcZLZPGxBCM",
      "include_colab_link": true
    },
    "kernelspec": {
      "name": "python3",
      "display_name": "Python 3"
    },
    "language_info": {
      "name": "python"
    },
    "accelerator": "GPU"
  },
  "cells": [
    {
      "cell_type": "markdown",
      "metadata": {
        "id": "view-in-github",
        "colab_type": "text"
      },
      "source": [
        "<a href=\"https://colab.research.google.com/github/rohitgambhir/MACHINE-LEARNING-SIGNATURE/blob/main/MlProject.ipynb\" target=\"_parent\"><img src=\"https://colab.research.google.com/assets/colab-badge.svg\" alt=\"Open In Colab\"/></a>"
      ]
    },
    {
      "cell_type": "code",
      "metadata": {
        "id": "B72r8kWf4qHC"
      },
      "source": [
        "from google.colab import drive\n",
        "drive.mount('/content/drive/')\n",
        "\n",
        "\n",
        "\n",
        "\n",
        "\n",
        "\n",
        "\n",
        "\n",
        "\n",
        "import os\n",
        "import numpy as np\n",
        "import matplotlib.pyplot as plt\n",
        "import matplotlib.mlab as mlab\n",
        "import cv2\n",
        "import math\n",
        "\n",
        "import keras\n",
        "import keras.backend as K\n",
        "import tensorflow as tf\n",
        "from keras import applications\n",
        "from keras.models import Model\n",
        "from keras.layers import Flatten, Dense, Input,concatenate\n",
        "from keras.optimizers import Adam\n",
        "from keras.models import load_model, model_from_json\n",
        "import random"
      ],
      "execution_count": null,
      "outputs": []
    },
    {
      "cell_type": "code",
      "metadata": {
        "id": "FzjiMG104zrd"
      },
      "source": [
        "import os\n",
        "import numpy as np\n",
        "import matplotlib.pyplot as plt\n",
        "import matplotlib.mlab as mlab\n",
        "import cv2\n",
        "import math\n",
        "from tensorflow import keras\n",
        "import keras\n",
        "import keras.backend as K\n",
        "import tensorflow as tf\n",
        "from keras import applications\n",
        "from keras.models import Model\n",
        "from keras.layers import Flatten, Dense, Input,concatenate\n",
        "from keras.optimizers import Adam\n",
        "from keras.models import load_model, model_from_json\n",
        "import random\n",
        "gen=\"/content/drive/MyDrive/input/handwritten signatures/sample_Signature/sample_Signature/genuine\"\n",
        "forg=\"/content/drive/MyDrive/input/handwritten signatures/sample_Signature/sample_Signature/forged\"\n",
        "\n",
        "gentr=\"/content/drive/MyDrive/input/sigcomp 2009 train/Sigcomp 2009 train/genuine\"\n",
        "forgtr=\"/content/drive/MyDrive/input/sigcomp 2009 train/Sigcomp 2009 train/forgeries\"\n",
        "\n",
        "gent=\"/content/drive/MyDrive/input/Sigcomp 2009/sigcomp 2009/genuines\"\n",
        "forgt=\"/content/drive/MyDrive/input/Sigcomp 2009/sigcomp 2009/forgeries\""
      ],
      "execution_count": null,
      "outputs": []
    },
    {
      "cell_type": "code",
      "metadata": {
        "id": "6dgdS5i95Igm"
      },
      "source": [
        "img_width, img_height, channels = 224, 224, 3\n",
        "\n",
        "dim = (img_width, img_height)\n",
        "\n",
        "def to_rgb(img):\n",
        "    img = cv2.resize(img, dim, interpolation = cv2.INTER_AREA) \n",
        "    img_rgb = np.asarray(np.dstack((img, img, img)), dtype=np.uint8)\n",
        "    return img_rgb\n",
        "\n",
        "def returnimages(path,img):\n",
        "    image=cv2.imread(path+\"/\"+ img)                  #bringing the image\n",
        "    image=cv2.resize(image, (img_width, img_height))\n",
        "    image=cv2.cvtColor(image, cv2.COLOR_BGR2GRAY)\n",
        "    image=to_rgb(image).reshape(1,img_width, img_height,3)/255.0       #resizing and normalizing    \n",
        "    return image\n",
        "\n",
        "def getfiles(num,gen,forg):\n",
        "    a=os.listdir(gen)\n",
        "    b=os.listdir(forg)\n",
        "    c=str(num)\n",
        "    c=c[2:]\n",
        "    if(len(c)==2):\n",
        "        c=c+\"0\"\n",
        "    \n",
        "    n,m=[],[]\n",
        "    for i in b:\n",
        "        if i.endswith(c+\".png\"):\n",
        "            n=n+[i]\n",
        "        elif i.endswith(c+\".PNG\"):\n",
        "            n=n+[i]\n",
        "    for i in a:\n",
        "        if i.endswith(c+\".png\"):\n",
        "            m=m+[i]\n",
        "        elif i.endswith(c+\".PNG\"):\n",
        "            m=m+[i]\n",
        "    return m.pop(),n,m\n",
        "\n",
        "def getfiles2(num):\n",
        "    a=os.listdir(gentr)\n",
        "    b=os.listdir(forgtr)\n",
        "    c=str(num)\n",
        "    c=c[2:]\n",
        "    if(len(c)==2):\n",
        "        c=c+\"0\"\n",
        "    n,m=[],[]\n",
        "    for i in b:\n",
        "        if (i.endswith(c+\"_001_6g.png\") or i.endswith(c+\"_002_6g.png\") or i.endswith(c+\"_003_6g.png\")\n",
        "            or i.endswith(c+\"_004_6g.png\") or i.endswith(c+\"_005_6g.png\")):\n",
        "            n=n+[i]\n",
        "        elif (i.endswith(c+\"_001_6g.PNG\") or i.endswith(c+\"_002_6g.PNG\") or i.endswith(c+\"_003_6g.PNG\")\n",
        "              or i.endswith(c+\"_004_6g.PNG\") or i.endswith(c+\"_005_6g.PNG\")):\n",
        "            n=n+[i]\n",
        "    for i in a:\n",
        "        if (i.endswith(c+\"_001_6g.png\") or i.endswith(c+\"_002_6g.png\") or i.endswith(c+\"_003_6g.png\")\n",
        "            or i.endswith(c+\"_004_6g.png\") or i.endswith(c+\"_005_6g.png\")):\n",
        "            m=m+[i]\n",
        "        elif (i.endswith(c+\"_001_6g.PNG\") or i.endswith(c+\"_002_6g.PNG\") or i.endswith(c+\"_003_6g.PNG\")\n",
        "              or i.endswith(c+\"_004_6g.PNG\") or i.endswith(c+\"_005_6g.PNG\")):\n",
        "            m=m+[i]\n",
        "    return m.pop(),n,m\n"
      ],
      "execution_count": null,
      "outputs": []
    },
    {
      "cell_type": "code",
      "metadata": {
        "id": "xA6OHVXTDHwf"
      },
      "source": [
        ""
      ],
      "execution_count": null,
      "outputs": []
    },
    {
      "cell_type": "code",
      "metadata": {
        "id": "hk14LRPj5blJ"
      },
      "source": [
        "def triplet_loss(y_true, y_pred):\n",
        "    alpha = 0.5\n",
        "    anchor, positive, negative =y_pred[0,0:512], y_pred[0,512:1024], y_pred[0,1024:1536]\n",
        "    \n",
        "    positive_distance = K.mean(K.square(anchor - positive),axis=-1)\n",
        "    negative_distance = K.mean(K.square(anchor - negative),axis=-1)\n",
        "    return K.mean(K.maximum(0.0, positive_distance - negative_distance + alpha))\n",
        "\n"
      ],
      "execution_count": null,
      "outputs": []
    },
    {
      "cell_type": "code",
      "metadata": {
        "id": "SBxa2Ko25tYE"
      },
      "source": [
        "\n",
        "model = applications.vgg19.VGG19(weights='imagenet', include_top=False, pooling='max')\n",
        "for layer in model.layers[:15]:\n",
        "    layer.trainable = False\n",
        "\n",
        "anchor_in = Input(shape=(img_width, img_height, channels))\n",
        "pos_in = Input(shape=(img_width, img_height, channels))\n",
        "neg_in = Input(shape=(img_width, img_height, channels))\n",
        "\n",
        "anchor_out = model(anchor_in)\n",
        "pos_out = model(pos_in)\n",
        "neg_out = model(neg_in)\n",
        "merged_vector = concatenate([anchor_out, pos_out, neg_out],axis=1)\n",
        "\n",
        "model = Model(inputs=[anchor_in, pos_in, neg_in], outputs=merged_vector)"
      ],
      "execution_count": null,
      "outputs": []
    },
    {
      "cell_type": "code",
      "metadata": {
        "id": "53W9q9oroveI"
      },
      "source": [
        "model.compile(optimizer=Adam(lr=0.000005),loss=triplet_loss)"
      ],
      "execution_count": null,
      "outputs": []
    },
    {
      "cell_type": "code",
      "metadata": {
        "id": "tPyrXYRpo1i5"
      },
      "source": [
        "def generator():\n",
        "    for i in range(1,31):\n",
        "        if(i<10):\n",
        "            anc,neg,pos=getfiles(float(\"0.00\"+str(i)),gen,forg)\n",
        "        else:\n",
        "            anc,neg,pos=getfiles(float(\"0.0\"+str(i)),gen,forg)\n",
        "        for i in range(len(neg)):\n",
        "            for j in range(len(pos)):\n",
        "                anchor=returnimages(gen,anc)\n",
        "                positive=returnimages(gen,pos[j])\n",
        "                negative=returnimages(forg,neg[i])\n",
        "               # yield ([anc,pos[j],neg[i]],[0])\n",
        "                yield ([anchor,positive,negative],np.asarray([0]))"
      ],
      "execution_count": null,
      "outputs": []
    },
    {
      "cell_type": "code",
      "metadata": {
        "colab": {
          "base_uri": "https://localhost:8080/"
        },
        "id": "iFqqgZ9Wo4at",
        "outputId": "f9fd52ea-6c66-4842-a2cd-34223eeb1ee7"
      },
      "source": [
        "for x in range(2):\n",
        "    model.fit_generator(generator() , steps_per_epoch=200,epochs=3)"
      ],
      "execution_count": null,
      "outputs": [
        {
          "output_type": "stream",
          "text": [
            "/usr/local/lib/python3.7/dist-packages/tensorflow/python/keras/engine/training.py:1844: UserWarning: `Model.fit_generator` is deprecated and will be removed in a future version. Please use `Model.fit`, which supports generators.\n",
            "  warnings.warn('`Model.fit_generator` is deprecated and '\n"
          ],
          "name": "stderr"
        },
        {
          "output_type": "stream",
          "text": [
            "Epoch 1/3\n",
            "200/200 [==============================] - 80s 228ms/step - loss: 0.2476\n",
            "Epoch 2/3\n",
            "200/200 [==============================] - 44s 215ms/step - loss: 0.0495\n",
            "Epoch 3/3\n",
            "200/200 [==============================] - 67s 333ms/step - loss: 0.0582\n",
            "Epoch 1/3\n",
            "200/200 [==============================] - 12s 61ms/step - loss: 0.0089\n",
            "Epoch 2/3\n",
            "200/200 [==============================] - 12s 61ms/step - loss: 0.0000e+00\n",
            "Epoch 3/3\n",
            "200/200 [==============================] - 24s 122ms/step - loss: 5.3733e-04\n"
          ],
          "name": "stdout"
        }
      ]
    },
    {
      "cell_type": "code",
      "metadata": {
        "id": "TOJHAlVi_3s_"
      },
      "source": [
        "model.compile(optimizer=Adam(lr=0.000002),loss=triplet_loss)"
      ],
      "execution_count": null,
      "outputs": []
    },
    {
      "cell_type": "code",
      "metadata": {
        "id": "q2nQ99h3AW_A"
      },
      "source": [
        "def generator2():\n",
        "    x=[\"0.001\",\"0.004\", \"0.005\", \"0.006\", \"0.007\",\n",
        "       \"0.008\", \"0.009\", \"0.010\", \"0.011\", \"0.001\", \"0.010\"]\n",
        "  #  x=[\"0.001\", \"0.004\", \"0.006\", \"0.010\"]\n",
        "\n",
        "    for k in x:\n",
        "        anc,neg,pos=getfiles2(k)\n",
        "        frac=0.95    \n",
        "        inds = set(random.sample(list(range(len(neg))), int(frac*len(neg))))\n",
        "        neg = [n for i,n in enumerate(neg) if i not in inds]\n",
        "    \n",
        "        for i in range(len(neg)):\n",
        "            for j in range(len(pos)):\n",
        "                anchor=returnimages(gentr,anc)\n",
        "                positive=returnimages(gentr,pos[j])\n",
        "                negative=returnimages(forgtr,neg[i])\n",
        "               # yield ([anc,pos[j],neg[i]])\n",
        "                yield ([anchor,positive,negative],np.asarray([0]))"
      ],
      "execution_count": null,
      "outputs": []
    },
    {
      "cell_type": "code",
      "metadata": {
        "colab": {
          "base_uri": "https://localhost:8080/"
        },
        "id": "pDB5jgdLAkE9",
        "outputId": "1563b84b-baa8-4ccd-b62d-97d85cc7d5ae"
      },
      "source": [
        "for x in range(2):\n",
        "    model.fit_generator(generator2(),steps_per_epoch=32,epochs=11)"
      ],
      "execution_count": null,
      "outputs": [
        {
          "output_type": "stream",
          "text": [
            "/usr/local/lib/python3.7/dist-packages/tensorflow/python/keras/engine/training.py:1844: UserWarning: `Model.fit_generator` is deprecated and will be removed in a future version. Please use `Model.fit`, which supports generators.\n",
            "  warnings.warn('`Model.fit_generator` is deprecated and '\n"
          ],
          "name": "stderr"
        },
        {
          "output_type": "stream",
          "text": [
            "Epoch 1/11\n",
            "32/32 [==============================] - 6s 148ms/step - loss: 1.4777e-04\n",
            "Epoch 2/11\n",
            "32/32 [==============================] - 5s 150ms/step - loss: 0.0000e+00\n",
            "Epoch 3/11\n",
            "32/32 [==============================] - 5s 149ms/step - loss: 0.0014\n",
            "Epoch 4/11\n",
            "32/32 [==============================] - 5s 145ms/step - loss: 0.0085\n",
            "Epoch 5/11\n",
            "32/32 [==============================] - 6s 157ms/step - loss: 0.2172\n",
            "Epoch 6/11\n",
            "32/32 [==============================] - 6s 167ms/step - loss: 0.0709\n",
            "Epoch 7/11\n",
            "32/32 [==============================] - 6s 163ms/step - loss: 0.0439\n",
            "Epoch 8/11\n",
            "32/32 [==============================] - 6s 151ms/step - loss: 0.0267\n",
            "Epoch 9/11\n",
            "32/32 [==============================] - 6s 166ms/step - loss: 0.0329\n",
            "Epoch 10/11\n",
            "32/32 [==============================] - 4s 128ms/step - loss: 0.0000e+00\n",
            "Epoch 11/11\n",
            "32/32 [==============================] - 4s 136ms/step - loss: 0.0000e+00\n",
            "Epoch 1/11\n",
            "32/32 [==============================] - 4s 119ms/step - loss: 0.0120\n",
            "Epoch 2/11\n",
            "32/32 [==============================] - 5s 141ms/step - loss: 0.0000e+00\n",
            "Epoch 3/11\n",
            "32/32 [==============================] - 5s 145ms/step - loss: 0.0000e+00\n",
            "Epoch 4/11\n",
            "32/32 [==============================] - 5s 133ms/step - loss: 0.0000e+00\n",
            "Epoch 5/11\n",
            "32/32 [==============================] - 4s 116ms/step - loss: 0.0175\n",
            "Epoch 6/11\n",
            "32/32 [==============================] - 5s 132ms/step - loss: 0.0000e+00\n",
            "Epoch 7/11\n",
            "32/32 [==============================] - 5s 138ms/step - loss: 0.0000e+00\n",
            "Epoch 8/11\n",
            "32/32 [==============================] - 4s 115ms/step - loss: 0.0000e+00\n",
            "Epoch 9/11\n",
            "32/32 [==============================] - 4s 119ms/step - loss: 0.0217\n",
            "Epoch 10/11\n",
            "32/32 [==============================] - 5s 126ms/step - loss: 0.0000e+00\n",
            "Epoch 11/11\n",
            "32/32 [==============================] - 4s 132ms/step - loss: 0.0000e+00\n"
          ],
          "name": "stdout"
        }
      ]
    },
    {
      "cell_type": "code",
      "metadata": {
        "id": "bCpsefLTBMly"
      },
      "source": [
        ""
      ],
      "execution_count": null,
      "outputs": []
    },
    {
      "cell_type": "code",
      "metadata": {
        "colab": {
          "base_uri": "https://localhost:8080/"
        },
        "id": "mF161FWgBE6E",
        "outputId": "670ceebe-21ef-4486-f9c5-64e0ec0f15ef"
      },
      "source": [
        "tneg,tpos=0,0\n",
        "x=[0.002, 0.008, 0.016, 0.018, 0.024, 0.033, 0.035, 0.044, 0.046, 0.063,\n",
        "   0.070, 0.071, 0.077, 0.084, 0.085, 0.086, 0.089, 0.092, 0.093]\n",
        "for k in x: #the id of signatures you want to check\n",
        "    #print(\"When k is \", k)\n",
        "    anc,neg,pos=getfiles(k,gent,forgt)\n",
        "    tneg=tneg+len(neg)\n",
        "    tpos=tpos+len(pos)\n",
        "print(tneg,tpos)\n"
      ],
      "execution_count": null,
      "outputs": [
        {
          "output_type": "stream",
          "text": [
            "624 203\n"
          ],
          "name": "stdout"
        }
      ]
    },
    {
      "cell_type": "code",
      "metadata": {
        "id": "07aO65aqBO8d"
      },
      "source": [
        "model.save_weights('/content/drive/MyDrive/input')"
      ],
      "execution_count": null,
      "outputs": []
    },
    {
      "cell_type": "code",
      "metadata": {
        "colab": {
          "base_uri": "https://localhost:8080/"
        },
        "id": "qEPEo0sjDJPr",
        "outputId": "c3a29433-1025-4ce6-f139-317b155bbf74"
      },
      "source": [
        "forg_passed=0\n",
        "gen_flagged=0\n",
        "x=[0.002, 0.008, 0.016, 0.018, 0.024, 0.033, 0.035, 0.044, 0.046, 0.063,\n",
        "   0.070, 0.071, 0.077, 0.084, 0.085, 0.086, 0.089, 0.092, 0.093]\n",
        "\n",
        "for k in x: #the id of signatures you want to check\n",
        "    print(\"When k is \", k)\n",
        "    anc,neg,pos=getfiles(k,gent,forgt)\n",
        "    \n",
        "    anchor=returnimages(gent,anc)\n",
        "    for i in range(len(pos)): #pos\n",
        "        positive=returnimages(gent,pos[i])\n",
        "        x=model.predict([anchor,positive,anchor])\n",
        "        a, p, useless = x[0,0:512], x[0,512:1024], x[0,1024:1536]\n",
        "        #dist=sum(a-p)\n",
        "        dist=np.linalg.norm(a-p)\n",
        "        #print(\"positive distance is \",dist)\n",
        "        if(dist>32):\n",
        "        #  print(\"0\")\n",
        "            gen_flagged=gen_flagged+1\n",
        "            print(\"gen flagged - \",dist, \"file name is - \", pos[i])\n",
        "            \n",
        "        else:\n",
        "            gen_flagged=gen_flagged\n",
        "        #   print(\"1\")\n",
        "        \n",
        "    for j in range(len(neg)): #neg\n",
        "        negative=returnimages(forgt,neg[j])\n",
        "        x=model.predict([anchor,negative,anchor])\n",
        "        a, n, useless = x[0,0:512], x[0,512:1024], x[0,1024:1536]\n",
        "        #dist=sum(a-n)\n",
        "        dist=np.linalg.norm(a-n)\n",
        "        #print(\"negative distance is \",dist)\n",
        "        if(dist>32):\n",
        "            forg_passed=forg_passed\n",
        "          #  print(\"0\")\n",
        "        else:\n",
        "            forg_passed=forg_passed+1\n",
        "            print(\"forg passed - \",dist, \"file name is - \", neg[j])\n",
        "          #  print(\"1\")\n",
        "\n",
        "print(\"forg_passed is \",forg_passed)\n",
        "print(\"gen_flagged is \",gen_flagged)\n"
      ],
      "execution_count": null,
      "outputs": [
        {
          "output_type": "stream",
          "text": [
            "When k is  0.002\n",
            "forg passed -  31.78837 file name is -  NFI-08901002.png\n",
            "When k is  0.008\n",
            "gen flagged -  33.54485 file name is -  NFI-00801008.png\n",
            "When k is  0.016\n",
            "gen flagged -  50.531715 file name is -  NFI-01612016.png\n",
            "gen flagged -  41.755875 file name is -  NFI-01609016.png\n",
            "gen flagged -  38.22614 file name is -  NFI-01610016.png\n",
            "gen flagged -  40.19836 file name is -  NFI-01611016.png\n",
            "gen flagged -  38.156174 file name is -  NFI-01608016.png\n",
            "When k is  0.018\n",
            "gen flagged -  35.381157 file name is -  NFI-01811018.png\n",
            "gen flagged -  33.243824 file name is -  NFI-01804018.png\n",
            "forg passed -  29.102968 file name is -  NFI-08905018.png\n",
            "forg passed -  29.64479 file name is -  NFI-08906018.png\n",
            "forg passed -  30.449028 file name is -  NFI-08904018.png\n",
            "forg passed -  31.854208 file name is -  NFI-10004018.png\n",
            "forg passed -  31.940445 file name is -  NFI-08903018.png\n",
            "When k is  0.024\n",
            "gen flagged -  32.960842 file name is -  NFI-02410024.png\n",
            "gen flagged -  32.852524 file name is -  NFI-02403024.png\n",
            "gen flagged -  35.25262 file name is -  NFI-02405024.png\n",
            "When k is  0.033\n",
            "gen flagged -  35.115738 file name is -  NFI-03303033.png\n",
            "forg passed -  27.573244 file name is -  NFI-02704033.png\n",
            "forg passed -  30.567226 file name is -  NFI-02802033.png\n",
            "forg passed -  31.959408 file name is -  NFI-02705033.png\n",
            "forg passed -  27.32779 file name is -  NFI-02702033.png\n",
            "forg passed -  31.259527 file name is -  NFI-02201033.png\n",
            "forg passed -  30.61351 file name is -  NFI-01704033.png\n",
            "forg passed -  30.212614 file name is -  NFI-02701033.png\n",
            "When k is  0.035\n",
            "gen flagged -  33.46757 file name is -  NFI-03506035.png\n",
            "gen flagged -  35.23252 file name is -  NFI-03503035.png\n",
            "gen flagged -  34.858616 file name is -  NFI-03507035.png\n",
            "When k is  0.044\n",
            "gen flagged -  34.293076 file name is -  NFI-04412044.png\n",
            "gen flagged -  36.33086 file name is -  NFI-04407044.png\n",
            "forg passed -  28.420115 file name is -  NFI-01404044.png\n",
            "forg passed -  29.442602 file name is -  NFI-00606044.png\n",
            "forg passed -  28.0487 file name is -  NFI-00604044.png\n",
            "forg passed -  28.21314 file name is -  NFI-00605044.png\n",
            "forg passed -  31.295803 file name is -  NFI-00905044.png\n",
            "forg passed -  27.628603 file name is -  NFI-01302044.png\n",
            "forg passed -  26.99788 file name is -  NFI-01401044.png\n",
            "forg passed -  31.92131 file name is -  NFI-01403044.png\n",
            "forg passed -  30.726574 file name is -  NFI-00904044.png\n",
            "When k is  0.046\n",
            "When k is  0.063\n",
            "gen flagged -  34.003864 file name is -  NFI-06308063.png\n",
            "gen flagged -  34.37642 file name is -  NFI-06305063.png\n",
            "gen flagged -  33.566994 file name is -  NFI-06312063.png\n",
            "gen flagged -  33.322422 file name is -  NFI-06302063.png\n",
            "forg passed -  25.631544 file name is -  NFI-08001063.png\n",
            "forg passed -  31.214233 file name is -  NFI-08002063.png\n",
            "When k is  0.07\n",
            "gen flagged -  35.527576 file name is -  NFI-07010070.png\n",
            "gen flagged -  37.020866 file name is -  NFI-07006070.png\n",
            "gen flagged -  38.91045 file name is -  NFI-07003070.png\n",
            "gen flagged -  38.456688 file name is -  NFI-07012070.png\n",
            "gen flagged -  32.24911 file name is -  NFI-07007070.png\n",
            "gen flagged -  34.1231 file name is -  NFI-07009070.png\n",
            "gen flagged -  34.280827 file name is -  NFI-07011070.png\n",
            "gen flagged -  34.28407 file name is -  NFI-07008070.png\n",
            "gen flagged -  38.59962 file name is -  NFI-07002070.png\n",
            "gen flagged -  41.591072 file name is -  NFI-07001070.png\n",
            "When k is  0.071\n",
            "gen flagged -  47.62284 file name is -  NFI-07106071.png\n",
            "When k is  0.077\n",
            "gen flagged -  37.701023 file name is -  NFI-07703077.png\n",
            "gen flagged -  33.22444 file name is -  NFI-07712077.png\n",
            "gen flagged -  34.368927 file name is -  NFI-07705077.png\n",
            "gen flagged -  32.941734 file name is -  NFI-07701077.png\n",
            "gen flagged -  35.970184 file name is -  NFI-07709077.png\n",
            "gen flagged -  36.61202 file name is -  NFI-07706077.png\n",
            "When k is  0.084\n",
            "gen flagged -  35.27259 file name is -  NFI-08403084.png\n",
            "gen flagged -  57.386562 file name is -  NFI-08407084.png\n",
            "gen flagged -  36.364353 file name is -  NFI-08402084.png\n",
            "gen flagged -  53.32363 file name is -  NFI-08411084.png\n",
            "When k is  0.085\n",
            "gen flagged -  36.17037 file name is -  NFI-08503085.png\n",
            "gen flagged -  40.520992 file name is -  NFI-08509085.png\n",
            "gen flagged -  32.311646 file name is -  NFI-08512085.png\n",
            "gen flagged -  37.775555 file name is -  NFI-08502085.png\n",
            "gen flagged -  33.43056 file name is -  NFI-08501085.png\n",
            "gen flagged -  36.204815 file name is -  NFI-08511085.png\n",
            "gen flagged -  35.20714 file name is -  NFI-08506085.png\n",
            "gen flagged -  41.163757 file name is -  NFI-08510085.png\n",
            "When k is  0.086\n",
            "gen flagged -  43.586235 file name is -  NFI-08611086.png\n",
            "gen flagged -  36.314365 file name is -  NFI-08604086.png\n",
            "gen flagged -  39.36837 file name is -  NFI-08610086.png\n",
            "gen flagged -  38.668404 file name is -  NFI-08606086.png\n",
            "gen flagged -  41.96689 file name is -  NFI-08608086.png\n",
            "gen flagged -  35.7656 file name is -  NFI-08605086.png\n",
            "gen flagged -  34.86669 file name is -  NFI-08601086.png\n",
            "gen flagged -  33.64818 file name is -  NFI-08612086.png\n",
            "gen flagged -  41.880413 file name is -  NFI-08603086.png\n",
            "gen flagged -  44.35382 file name is -  NFI-08609086.png\n",
            "gen flagged -  39.382553 file name is -  NFI-08607086.png\n",
            "When k is  0.089\n",
            "forg passed -  31.244816 file name is -  NFI-02201089.png\n",
            "forg passed -  30.719072 file name is -  NFI-01706089.png\n",
            "forg passed -  31.221745 file name is -  NFI-05902089.png\n",
            "forg passed -  30.705595 file name is -  NFI-01705089.png\n",
            "forg passed -  26.203066 file name is -  NFI-02202089.png\n",
            "When k is  0.092\n",
            "gen flagged -  39.898434 file name is -  NFI-09206092.png\n",
            "gen flagged -  32.590782 file name is -  NFI-09201092.png\n",
            "gen flagged -  35.22751 file name is -  NFI-09203092.png\n",
            "gen flagged -  36.912872 file name is -  NFI-09210092.png\n",
            "gen flagged -  34.043324 file name is -  NFI-09207092.png\n",
            "gen flagged -  36.278336 file name is -  NFI-09208092.png\n",
            "gen flagged -  34.188534 file name is -  NFI-09209092.png\n",
            "gen flagged -  45.558796 file name is -  NFI-09211092.png\n",
            "gen flagged -  38.55634 file name is -  NFI-09212092.png\n",
            "gen flagged -  34.382793 file name is -  NFI-09202092.png\n",
            "When k is  0.093\n",
            "gen flagged -  35.77377 file name is -  NFI-09305093.png\n",
            "gen flagged -  36.645294 file name is -  NFI-09301093.png\n",
            "forg passed -  31.66733 file name is -  NFI-05202093.png\n",
            "forg_passed is  30\n",
            "gen_flagged is  73\n"
          ],
          "name": "stdout"
        }
      ]
    }
  ]
}